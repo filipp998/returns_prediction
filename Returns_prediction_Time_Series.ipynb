{
  "nbformat": 4,
  "nbformat_minor": 0,
  "metadata": {
    "colab": {
      "name": "Returns prediction Time Series.ipynb",
      "provenance": [],
      "collapsed_sections": []
    },
    "kernelspec": {
      "name": "python3",
      "display_name": "Python 3"
    },
    "language_info": {
      "name": "python"
    }
  },
  "cells": [
    {
      "cell_type": "code",
      "metadata": {
        "colab": {
          "base_uri": "https://localhost:8080/"
        },
        "id": "PL0oIh6F_G7N",
        "outputId": "e7a77eb1-4f14-4701-d95d-14c173a920b9"
      },
      "source": [
        "try:\n",
        "    from google.colab import drive\n",
        "    IN_COLAB=True\n",
        "except:\n",
        "    IN_COLAB=False\n",
        "\n",
        "if IN_COLAB:\n",
        "    print(\"We're running Colab\")\n",
        "  \n",
        "if IN_COLAB:\n",
        "    # Mount the Google Drive at mount\n",
        "    mount='/content/gdrive'\n",
        "    print(\"Colab: mounting Google drive on \", mount)\n",
        "\n",
        "    drive.mount(mount)\n",
        "\n",
        "    # Switch to the directory on the Google Drive that you want to use\n",
        "    import os\n",
        "    drive_root = mount + \"/My Drive/ML_for_fun/Stock prediction/Data\"\n",
        "    \n",
        "    # Create drive_root if it doesn't exist\n",
        "    create_drive_root = True\n",
        "    if create_drive_root:\n",
        "        print(\"\\nColab: making sure \", drive_root, \" exists.\")\n",
        "        os.makedirs(drive_root, exist_ok = True)\n",
        "    \n",
        "    # Change to the directory\n",
        "    print(\"\\nColab: Changing directory to \", drive_root)\n",
        "    %cd $drive_root\n",
        "else:\n",
        "    raise RuntimeError(\"This notebook should be run from Colab, not on the local machine\")"
      ],
      "execution_count": 1,
      "outputs": [
        {
          "output_type": "stream",
          "text": [
            "We're running Colab\n",
            "Colab: mounting Google drive on  /content/gdrive\n",
            "Mounted at /content/gdrive\n",
            "\n",
            "Colab: making sure  /content/gdrive/My Drive/ML_for_fun/Stock prediction/Data  exists.\n",
            "\n",
            "Colab: Changing directory to  /content/gdrive/My Drive/ML_for_fun/Stock prediction/Data\n",
            "/content/gdrive/My Drive/ML_for_fun/Stock prediction/Data\n"
          ],
          "name": "stdout"
        }
      ]
    },
    {
      "cell_type": "code",
      "metadata": {
        "id": "Clo6C4rtALu4",
        "colab": {
          "base_uri": "https://localhost:8080/"
        },
        "outputId": "569cfb5f-31e2-4206-ed7a-a09153c6a57f"
      },
      "source": [
        "import numpy as np\n",
        "import pandas as pd\n",
        "import matplotlib.pyplot as plt\n",
        "from statsmodels.tsa.stattools import adfuller\n",
        "from statsmodels.graphics.tsaplots import plot_acf,plot_pacf\n",
        "from statsmodels.tsa.statespace.sarimax import SARIMAX"
      ],
      "execution_count": 2,
      "outputs": [
        {
          "output_type": "stream",
          "text": [
            "/usr/local/lib/python3.7/dist-packages/statsmodels/tools/_testing.py:19: FutureWarning: pandas.util.testing is deprecated. Use the functions in the public API at pandas.testing instead.\n",
            "  import pandas.util.testing as tm\n"
          ],
          "name": "stderr"
        }
      ]
    },
    {
      "cell_type": "code",
      "metadata": {
        "id": "JlAwiVYgUcWT"
      },
      "source": [
        "from sklearn.metrics import mean_absolute_error"
      ],
      "execution_count": 111,
      "outputs": []
    },
    {
      "cell_type": "code",
      "metadata": {
        "id": "i9TV6pPTBs1P"
      },
      "source": [
        "aapl=pd.read_csv('./AAPL.csv')\n",
        "def prepare_dat(df):\n",
        "  df2=df.copy()\n",
        "  df2.set_index('Date',inplace=True)\n",
        "  df2.index=pd.DatetimeIndex(df2.index).to_period('D')\n",
        "  df2.drop(['Open','High','Low','Close','Volume'],axis=1,inplace=True)\n",
        "  return df2\n",
        "aapl2=prepare_dat(aapl)\n",
        "y=aapl2['Adj Close'].pct_change()\n",
        "y.dropna(inplace=True)\n"
      ],
      "execution_count": 11,
      "outputs": []
    },
    {
      "cell_type": "code",
      "metadata": {
        "id": "z45rafNQB8dE"
      },
      "source": [
        "ytrain,ytest=y[:3500],y[3500:]"
      ],
      "execution_count": 14,
      "outputs": []
    },
    {
      "cell_type": "code",
      "metadata": {
        "id": "Ka2esbA8q6AL"
      },
      "source": [
        "y_cl_test=(ytest.values>0).astype(int)"
      ],
      "execution_count": 155,
      "outputs": []
    },
    {
      "cell_type": "code",
      "metadata": {
        "colab": {
          "base_uri": "https://localhost:8080/",
          "height": 545
        },
        "id": "Cmh26ERJCqM7",
        "outputId": "de4cf838-b189-438d-e5c7-1d1969c84cbf"
      },
      "source": [
        "plot_acf(ytrain,lags=20)"
      ],
      "execution_count": 15,
      "outputs": [
        {
          "output_type": "execute_result",
          "data": {
            "image/png": "[encoded data removed]",
            "text/plain": [
              "<Figure size 432x288 with 1 Axes>"
            ]
          },
          "metadata": {
            "tags": []
          },
          "execution_count": 15
        },
        {
          "output_type": "display_data",
          "data": {
            "image/png": "[encoded data removed]",
            "text/plain": [
              "<Figure size 432x288 with 1 Axes>"
            ]
          },
          "metadata": {
            "tags": [],
            "needs_background": "light"
          }
        }
      ]
    },
    {
      "cell_type": "code",
      "metadata": {
        "colab": {
          "base_uri": "https://localhost:8080/",
          "height": 545
        },
        "id": "KZZ9YXHMECtu",
        "outputId": "f455e88d-c173-4e23-9e13-687d37a4cded"
      },
      "source": [
        "plot_pacf(ytrain,lags=20)"
      ],
      "execution_count": 16,
      "outputs": [
        {
          "output_type": "execute_result",
          "data": {
            "image/png": "[encoded data removed]",
            "text/plain": [
              "<Figure size 432x288 with 1 Axes>"
            ]
          },
          "metadata": {
            "tags": []
          },
          "execution_count": 16
        },
        {
          "output_type": "display_data",
          "data": {
            "image/png": "[encoded data removed]",
            "text/plain": [
              "<Figure size 432x288 with 1 Axes>"
            ]
          },
          "metadata": {
            "tags": [],
            "needs_background": "light"
          }
        }
      ]
    },
    {
      "cell_type": "markdown",
      "metadata": {
        "id": "0tzChz-_EbrU"
      },
      "source": [
        "Based on ACF and PACF we suspect two potential models: ARMA(4,4) and ARMA(6,6). We will choose from these two models based on the value of Akaike Information Criterion"
      ]
    },
    {
      "cell_type": "code",
      "metadata": {
        "colab": {
          "base_uri": "https://localhost:8080/"
        },
        "id": "7ZC2rKICHcss",
        "outputId": "073793ab-f059-4fb4-8483-e0b860a4768d"
      },
      "source": [
        "ytest.shape"
      ],
      "execution_count": null,
      "outputs": [
        {
          "output_type": "execute_result",
          "data": {
            "text/plain": [
              "(637,)"
            ]
          },
          "metadata": {
            "tags": []
          },
          "execution_count": 20
        }
      ]
    },
    {
      "cell_type": "code",
      "metadata": {
        "colab": {
          "base_uri": "https://localhost:8080/"
        },
        "id": "3ipe87xcPvCq",
        "outputId": "ef53fd06-6d29-4108-a6d7-b3b65e89237b"
      },
      "source": [
        "model=SARIMAX(ytrain,order=(4,0,4))\n",
        "model_fit=model.fit()\n",
        "model_fit.aic"
      ],
      "execution_count": 17,
      "outputs": [
        {
          "output_type": "execute_result",
          "data": {
            "text/plain": [
              "-17251.102768309876"
            ]
          },
          "metadata": {
            "tags": []
          },
          "execution_count": 17
        }
      ]
    },
    {
      "cell_type": "code",
      "metadata": {
        "colab": {
          "base_uri": "https://localhost:8080/"
        },
        "id": "vsBnWmtQQr0_",
        "outputId": "4a41348a-887f-4ef7-a6c6-aff4f0f3f57b"
      },
      "source": [
        "model2=SARIMAX(ytrain,order=(6,0,6))\n",
        "model_fit2=model2.fit()\n",
        "model_fit2.aic"
      ],
      "execution_count": 18,
      "outputs": [
        {
          "output_type": "execute_result",
          "data": {
            "text/plain": [
              "-17245.365756030722"
            ]
          },
          "metadata": {
            "tags": []
          },
          "execution_count": 18
        }
      ]
    },
    {
      "cell_type": "markdown",
      "metadata": {
        "id": "zEKnWzuv2F8m"
      },
      "source": [
        "For reference, let's also train the white noise model, i.e when p,d,q are 0, and see its AIC"
      ]
    },
    {
      "cell_type": "code",
      "metadata": {
        "colab": {
          "base_uri": "https://localhost:8080/"
        },
        "id": "xH-Qdw5u2cn4",
        "outputId": "99624f57-f5c5-40f0-af34-606c9dfa1776"
      },
      "source": [
        "model3=SARIMAX(ytrain,order=(0,0,0))\n",
        "model_fit3=model3.fit()\n",
        "model_fit3.aic"
      ],
      "execution_count": 19,
      "outputs": [
        {
          "output_type": "execute_result",
          "data": {
            "text/plain": [
              "-17249.929653997497"
            ]
          },
          "metadata": {
            "tags": []
          },
          "execution_count": 19
        }
      ]
    },
    {
      "cell_type": "markdown",
      "metadata": {
        "id": "OsKBDYS3RBCS"
      },
      "source": [
        "AIC is smallest when p & q are 4, so we stick to this model"
      ]
    },
    {
      "cell_type": "markdown",
      "metadata": {
        "id": "eCpktvGeRpIk"
      },
      "source": [
        "Next we perform the forecasting. We manually extract model coefficients and perform forecasting applying the direct definition of the ARMA(4,4) model"
      ]
    },
    {
      "cell_type": "markdown",
      "metadata": {
        "id": "sI-H2ES8SBwm"
      },
      "source": [
        "Wxtracting the parameters:"
      ]
    },
    {
      "cell_type": "code",
      "metadata": {
        "id": "pn0HYf_nSpjX"
      },
      "source": [
        "pars=model_fit.params"
      ],
      "execution_count": 40,
      "outputs": []
    },
    {
      "cell_type": "markdown",
      "metadata": {
        "id": "w47ZfaKjSEZo"
      },
      "source": [
        "Defining the array needed to make predictions:"
      ]
    },
    {
      "cell_type": "code",
      "metadata": {
        "id": "CYSH8hV6ANYK"
      },
      "source": [
        "array_for_pred=np.array(ytrain[-4:])\n",
        "array_for_pred=np.append(array_for_pred, ytest[:-1])"
      ],
      "execution_count": 88,
      "outputs": []
    },
    {
      "cell_type": "markdown",
      "metadata": {
        "id": "5kzU4H0WSKyV"
      },
      "source": [
        "Defining white noise, let it for now be standard normal rv's."
      ]
    },
    {
      "cell_type": "code",
      "metadata": {
        "id": "jCfaxcVeA5HE"
      },
      "source": [
        "random_norm=np.random.normal(0,1,size=array_for_pred.shape[0])"
      ],
      "execution_count": 106,
      "outputs": []
    },
    {
      "cell_type": "markdown",
      "metadata": {
        "id": "c8B3lYbzSYtg"
      },
      "source": [
        "Now we apply the direct definition of ARMA(4,4) and build single-step forecasts from it"
      ]
    },
    {
      "cell_type": "code",
      "metadata": {
        "id": "EjnAzQyjC-eb"
      },
      "source": [
        "predictions_norm=np.empty(shape=ytest.shape[0])\n",
        "for i in range(0, ytest.shape[0]):\n",
        "  predictions_norm[i]=pars[0]*array_for_pred[i]+pars[1]*array_for_pred[i+1]+pars[2]*array_for_pred[i+2]+pars[3]*array_for_pred[i+3]+pars[4]*random_norm[i]+pars[5]*random_norm[i+1]+pars[6]*random_norm[i+2]+pars[7]*random_norm[i+3]"
      ],
      "execution_count": 107,
      "outputs": []
    },
    {
      "cell_type": "markdown",
      "metadata": {
        "id": "1eebi8QjSnhN"
      },
      "source": [
        "Now let's plot the results"
      ]
    },
    {
      "cell_type": "code",
      "metadata": {
        "colab": {
          "base_uri": "https://localhost:8080/",
          "height": 283
        },
        "id": "TVhntroBSKOA",
        "outputId": "3130b063-0bfc-44dc-b740-e732fca93281"
      },
      "source": [
        "plt.plot(predictions_norm,color='red',label='predicted')\n",
        "plt.plot(ytest.values,label='actual')\n",
        "plt.legend()"
      ],
      "execution_count": 108,
      "outputs": [
        {
          "output_type": "execute_result",
          "data": {
            "text/plain": [
              "<matplotlib.legend.Legend at 0x7f71629ad390>"
            ]
          },
          "metadata": {
            "tags": []
          },
          "execution_count": 108
        },
        {
          "output_type": "display_data",
          "data": {
            "image/png": "[encoded data removed]",
            "text/plain": [
              "<Figure size 432x288 with 1 Axes>"
            ]
          },
          "metadata": {
            "tags": [],
            "needs_background": "light"
          }
        }
      ]
    },
    {
      "cell_type": "markdown",
      "metadata": {
        "id": "hKPfgXc7Sszl"
      },
      "source": [
        "Wow... Looks like we got too much. The problem seems to be coming from white noise: it dominates the AR terms and this all results in too much variability in scale"
      ]
    },
    {
      "cell_type": "markdown",
      "metadata": {
        "id": "bMJNAehsTKyB"
      },
      "source": [
        "Solution? Let's try another white noise, with smaller standard deviation!\n"
      ]
    },
    {
      "cell_type": "code",
      "metadata": {
        "colab": {
          "base_uri": "https://localhost:8080/"
        },
        "id": "_MfVjnbSij8f",
        "outputId": "95f4e649-062a-46cd-a21c-9293994e1c47"
      },
      "source": [
        "ytrain.std()"
      ],
      "execution_count": 139,
      "outputs": [
        {
          "output_type": "execute_result",
          "data": {
            "text/plain": [
              "0.020541104115133456"
            ]
          },
          "metadata": {
            "tags": []
          },
          "execution_count": 139
        }
      ]
    },
    {
      "cell_type": "code",
      "metadata": {
        "id": "7_9NJ1irSdTu"
      },
      "source": [
        "random_norm2=np.random.normal(0,0.02,size=array_for_pred.shape[0])\n",
        "predictions_norm2=np.empty(shape=ytest.shape[0])\n",
        "for i in range(0, ytest.shape[0]):\n",
        "  predictions_norm2[i]=pars[0]*array_for_pred[i]+pars[1]*array_for_pred[i+1]+pars[2]*array_for_pred[i+2]+pars[3]*array_for_pred[i+3]+pars[4]*random_norm2[i]+pars[5]*random_norm2[i+1]+pars[6]*random_norm2[i+2]+pars[7]*random_norm2[i+3]"
      ],
      "execution_count": 140,
      "outputs": []
    },
    {
      "cell_type": "code",
      "metadata": {
        "colab": {
          "base_uri": "https://localhost:8080/",
          "height": 282
        },
        "id": "5VsUCiztUAqY",
        "outputId": "9f5dd65e-2b76-4d15-b750-16bfb1a96851"
      },
      "source": [
        "plt.plot(predictions_norm2,color='red',label='predicted')\n",
        "plt.plot(ytest.values,label='actual')\n",
        "plt.legend()"
      ],
      "execution_count": 141,
      "outputs": [
        {
          "output_type": "execute_result",
          "data": {
            "text/plain": [
              "<matplotlib.legend.Legend at 0x7f7160ea3ed0>"
            ]
          },
          "metadata": {
            "tags": []
          },
          "execution_count": 141
        },
        {
          "output_type": "display_data",
          "data": {
            "image/png": "[encoded data removed]",
            "text/plain": [
              "<Figure size 432x288 with 1 Axes>"
            ]
          },
          "metadata": {
            "tags": [],
            "needs_background": "light"
          }
        }
      ]
    },
    {
      "cell_type": "markdown",
      "metadata": {
        "id": "cDvXXik0UJ_b"
      },
      "source": [
        "Now that is much better! Although we seem to underestimate some shocks..."
      ]
    },
    {
      "cell_type": "code",
      "metadata": {
        "colab": {
          "base_uri": "https://localhost:8080/"
        },
        "id": "X0ik_8X_UYnA",
        "outputId": "0fd996af-e279-4266-bf87-62e88ede8db8"
      },
      "source": [
        "mean_absolute_error(ytest,predictions_norm2)"
      ],
      "execution_count": 142,
      "outputs": [
        {
          "output_type": "execute_result",
          "data": {
            "text/plain": [
              "0.0199772711809047"
            ]
          },
          "metadata": {
            "tags": []
          },
          "execution_count": 142
        }
      ]
    },
    {
      "cell_type": "markdown",
      "metadata": {
        "id": "61YDZYc3hhFi"
      },
      "source": [
        "The MAE is higher though than it was for ML models..."
      ]
    },
    {
      "cell_type": "markdown",
      "metadata": {
        "id": "-uhnFqRWhqXl"
      },
      "source": [
        "Computing and plotting prices from the returns..."
      ]
    },
    {
      "cell_type": "code",
      "metadata": {
        "id": "DH60uQ6SU9zP"
      },
      "source": [
        "start_test=aapl2.loc['2018-11-28'].values\n",
        "predicted_price=np.empty(ytest.shape[0])\n",
        "predicted_price[0]=start_test\n",
        "for i in range(1, predicted_price.shape[0]):\n",
        "  predicted_price[i]=predicted_price[i-1]*(1+predictions_norm2[i])"
      ],
      "execution_count": 143,
      "outputs": []
    },
    {
      "cell_type": "code",
      "metadata": {
        "colab": {
          "base_uri": "https://localhost:8080/",
          "height": 296
        },
        "id": "ISC58jFJY8VH",
        "outputId": "c5deff7c-944b-41a1-9c28-aa7d3806b766"
      },
      "source": [
        "actual_price=aapl2.loc['2018-11-28':].values\n",
        "plt.plot(actual_price)\n",
        "plt.plot(predicted_price,color='red')\n",
        "plt.xlabel('Time, days')\n",
        "plt.ylabel('Price, USD')\n",
        "plt.legend(['Actual price','Price predicted by ARMA(4,4) with Gaussian WN'])"
      ],
      "execution_count": 144,
      "outputs": [
        {
          "output_type": "execute_result",
          "data": {
            "text/plain": [
              "<matplotlib.legend.Legend at 0x7f7160e21a50>"
            ]
          },
          "metadata": {
            "tags": []
          },
          "execution_count": 144
        },
        {
          "output_type": "display_data",
          "data": {
            "image/png": "[encoded data removed]",
            "text/plain": [
              "<Figure size 432x288 with 1 Axes>"
            ]
          },
          "metadata": {
            "tags": [],
            "needs_background": "light"
          }
        }
      ]
    },
    {
      "cell_type": "markdown",
      "metadata": {
        "id": "EOvG7U4dhwSC"
      },
      "source": [
        "Well, the computed price doesn't match the actual price at all as it is unable to capture even the general upward trend."
      ]
    },
    {
      "cell_type": "markdown",
      "metadata": {
        "id": "OpXUvWffrjUa"
      },
      "source": [
        "Finally, let's try classification "
      ]
    },
    {
      "cell_type": "code",
      "metadata": {
        "colab": {
          "base_uri": "https://localhost:8080/"
        },
        "id": "kdbGhD0UqWJL",
        "outputId": "1203efa9-eaae-4fff-f340-8ab2785fff18"
      },
      "source": [
        "pred_cl=(predictions_norm2>0).astype(int)\n",
        "from sklearn.metrics import accuracy_score\n",
        "print('Accuracy score Time Series:' ,accuracy_score(y_cl_test,pred_cl))"
      ],
      "execution_count": 161,
      "outputs": [
        {
          "output_type": "stream",
          "text": [
            "Accuracy score Time Series: 0.5274725274725275\n"
          ],
          "name": "stdout"
        }
      ]
    },
    {
      "cell_type": "markdown",
      "metadata": {
        "id": "BfKKc0mIrZBk"
      },
      "source": [
        "Even in classification the time series model does not outperform the Random Forest and RNN..."
      ]
    },
    {
      "cell_type": "markdown",
      "metadata": {
        "id": "SGO3ptCSpIfl"
      },
      "source": [
        "This concludes our mini-research on comparing forecasts from classical ML, neural networks and time series modelling. For time series, I would also try other distribution with fatter tails for white noise (for ex., Student's t), but apparently, Python doesn't have enough functionality to operate on such intricate statistical grounds, for example, it doesn't offer the method for estimating the degrees of freedom parameter which is crucial when working with t-distribution. "
      ]
    }
  ]
}