{
  "nbformat": 4,
  "nbformat_minor": 0,
  "metadata": {
    "colab": {
      "name": "Returns prediction Classical ML.ipynb",
      "provenance": [],
      "collapsed_sections": [],
      "toc_visible": true
    },
    "kernelspec": {
      "name": "python3",
      "display_name": "Python 3"
    },
    "language_info": {
      "name": "python"
    }
  },
  "cells": [
    {
      "cell_type": "code",
      "metadata": {
        "colab": {
          "base_uri": "https://localhost:8080/"
        },
        "id": "aSbYqK55PQMZ",
        "outputId": "ef03222d-af38-4cc9-af32-9fb65c47c121"
      },
      "source": [
        "try:\n",
        "    from google.colab import drive\n",
        "    IN_COLAB=True\n",
        "except:\n",
        "    IN_COLAB=False\n",
        "\n",
        "if IN_COLAB:\n",
        "    print(\"We're running Colab\")\n",
        "  \n",
        "if IN_COLAB:\n",
        "    # Mount the Google Drive at mount\n",
        "    mount='/content/gdrive'\n",
        "    print(\"Colab: mounting Google drive on \", mount)\n",
        "\n",
        "    drive.mount(mount)\n",
        "\n",
        "    # Switch to the directory on the Google Drive that you want to use\n",
        "    import os\n",
        "    drive_root = mount + \"/My Drive/ML_for_fun/Stock prediction/Data\"\n",
        "    \n",
        "    # Create drive_root if it doesn't exist\n",
        "    create_drive_root = True\n",
        "    if create_drive_root:\n",
        "        print(\"\\nColab: making sure \", drive_root, \" exists.\")\n",
        "        os.makedirs(drive_root, exist_ok = True)\n",
        "    \n",
        "    # Change to the directory\n",
        "    print(\"\\nColab: Changing directory to \", drive_root)\n",
        "    %cd $drive_root\n",
        "else:\n",
        "    raise RuntimeError(\"This notebook should be run from Colab, not on the local machine\")"
      ],
      "execution_count": 1,
      "outputs": [
        {
          "output_type": "stream",
          "text": [
            "We're running Colab\n",
            "Colab: mounting Google drive on  /content/gdrive\n",
            "Mounted at /content/gdrive\n",
            "\n",
            "Colab: making sure  /content/gdrive/My Drive/ML_for_fun/Stock prediction/Data  exists.\n",
            "\n",
            "Colab: Changing directory to  /content/gdrive/My Drive/ML_for_fun/Stock prediction/Data\n",
            "/content/gdrive/My Drive/ML_for_fun/Stock prediction/Data\n"
          ],
          "name": "stdout"
        }
      ]
    },
    {
      "cell_type": "markdown",
      "metadata": {
        "id": "V5GKQ1gASEPT"
      },
      "source": [
        "# Imports"
      ]
    },
    {
      "cell_type": "code",
      "metadata": {
        "id": "FRQGAc4PQJq8"
      },
      "source": [
        "import numpy as np\n",
        "import pandas as pd\n",
        "import sklearn\n",
        "from sklearn.svm import LinearSVC,SVC, LinearSVR, SVR\n",
        "from sklearn.linear_model import LogisticRegression\n",
        "from sklearn.ensemble import RandomForestClassifier,BaggingClassifier,AdaBoostClassifier, RandomForestRegressor\n",
        "from sklearn.metrics import accuracy_score,precision_score,recall_score, mean_absolute_error\n",
        "from sklearn.model_selection import GridSearchCV, RandomizedSearchCV"
      ],
      "execution_count": 2,
      "outputs": []
    },
    {
      "cell_type": "code",
      "metadata": {
        "id": "iLxc-napbZcq"
      },
      "source": [
        "from sklearn.tree import DecisionTreeClassifier, DecisionTreeRegressor"
      ],
      "execution_count": null,
      "outputs": []
    },
    {
      "cell_type": "code",
      "metadata": {
        "id": "gXvDMPK3kaSp"
      },
      "source": [
        "import matplotlib.pyplot as plt\n"
      ],
      "execution_count": 3,
      "outputs": []
    },
    {
      "cell_type": "markdown",
      "metadata": {
        "id": "e9P9SNgGSfHN"
      },
      "source": [
        "# Initial data preparation"
      ]
    },
    {
      "cell_type": "code",
      "metadata": {
        "colab": {
          "base_uri": "https://localhost:8080/",
          "height": 204
        },
        "id": "Ri_rZs3pUF9n",
        "outputId": "49e3b80f-29cc-4238-e89e-ba225c9bbf94"
      },
      "source": [
        "aapl=pd.read_csv('./AAPL.csv')\n",
        "aapl.head()"
      ],
      "execution_count": 4,
      "outputs": [
        {
          "output_type": "execute_result",
          "data": {
            "text/html": [
              "<div>\n",
              "<style scoped>\n",
              "    .dataframe tbody tr th:only-of-type {\n",
              "        vertical-align: middle;\n",
              "    }\n",
              "\n",
              "    .dataframe tbody tr th {\n",
              "        vertical-align: top;\n",
              "    }\n",
              "\n",
              "    .dataframe thead th {\n",
              "        text-align: right;\n",
              "    }\n",
              "</style>\n",
              "<table border=\"1\" class=\"dataframe\">\n",
              "  <thead>\n",
              "    <tr style=\"text-align: right;\">\n",
              "      <th></th>\n",
              "      <th>Date</th>\n",
              "      <th>Open</th>\n",
              "      <th>High</th>\n",
              "      <th>Low</th>\n",
              "      <th>Close</th>\n",
              "      <th>Adj Close</th>\n",
              "      <th>Volume</th>\n",
              "    </tr>\n",
              "  </thead>\n",
              "  <tbody>\n",
              "    <tr>\n",
              "      <th>0</th>\n",
              "      <td>2005-01-03</td>\n",
              "      <td>1.156786</td>\n",
              "      <td>1.162679</td>\n",
              "      <td>1.117857</td>\n",
              "      <td>1.130179</td>\n",
              "      <td>0.971844</td>\n",
              "      <td>691992000</td>\n",
              "    </tr>\n",
              "    <tr>\n",
              "      <th>1</th>\n",
              "      <td>2005-01-04</td>\n",
              "      <td>1.139107</td>\n",
              "      <td>1.169107</td>\n",
              "      <td>1.124464</td>\n",
              "      <td>1.141786</td>\n",
              "      <td>0.981825</td>\n",
              "      <td>1096810400</td>\n",
              "    </tr>\n",
              "    <tr>\n",
              "      <th>2</th>\n",
              "      <td>2005-01-05</td>\n",
              "      <td>1.151071</td>\n",
              "      <td>1.165179</td>\n",
              "      <td>1.143750</td>\n",
              "      <td>1.151786</td>\n",
              "      <td>0.990424</td>\n",
              "      <td>680433600</td>\n",
              "    </tr>\n",
              "    <tr>\n",
              "      <th>3</th>\n",
              "      <td>2005-01-06</td>\n",
              "      <td>1.154821</td>\n",
              "      <td>1.159107</td>\n",
              "      <td>1.130893</td>\n",
              "      <td>1.152679</td>\n",
              "      <td>0.991192</td>\n",
              "      <td>705555200</td>\n",
              "    </tr>\n",
              "    <tr>\n",
              "      <th>4</th>\n",
              "      <td>2005-01-07</td>\n",
              "      <td>1.160714</td>\n",
              "      <td>1.243393</td>\n",
              "      <td>1.156250</td>\n",
              "      <td>1.236607</td>\n",
              "      <td>1.063362</td>\n",
              "      <td>2227450400</td>\n",
              "    </tr>\n",
              "  </tbody>\n",
              "</table>\n",
              "</div>"
            ],
            "text/plain": [
              "         Date      Open      High       Low     Close  Adj Close      Volume\n",
              "0  2005-01-03  1.156786  1.162679  1.117857  1.130179   0.971844   691992000\n",
              "1  2005-01-04  1.139107  1.169107  1.124464  1.141786   0.981825  1096810400\n",
              "2  2005-01-05  1.151071  1.165179  1.143750  1.151786   0.990424   680433600\n",
              "3  2005-01-06  1.154821  1.159107  1.130893  1.152679   0.991192   705555200\n",
              "4  2005-01-07  1.160714  1.243393  1.156250  1.236607   1.063362  2227450400"
            ]
          },
          "metadata": {
            "tags": []
          },
          "execution_count": 4
        }
      ]
    },
    {
      "cell_type": "code",
      "metadata": {
        "colab": {
          "base_uri": "https://localhost:8080/",
          "height": 204
        },
        "id": "GZPkSs-HUM3W",
        "outputId": "036da1ce-ba71-45b3-e340-bf5e2675a465"
      },
      "source": [
        "aapl.tail()"
      ],
      "execution_count": null,
      "outputs": [
        {
          "output_type": "execute_result",
          "data": {
            "text/html": [
              "<div>\n",
              "<style scoped>\n",
              "    .dataframe tbody tr th:only-of-type {\n",
              "        vertical-align: middle;\n",
              "    }\n",
              "\n",
              "    .dataframe tbody tr th {\n",
              "        vertical-align: top;\n",
              "    }\n",
              "\n",
              "    .dataframe thead th {\n",
              "        text-align: right;\n",
              "    }\n",
              "</style>\n",
              "<table border=\"1\" class=\"dataframe\">\n",
              "  <thead>\n",
              "    <tr style=\"text-align: right;\">\n",
              "      <th></th>\n",
              "      <th>Date</th>\n",
              "      <th>Open</th>\n",
              "      <th>High</th>\n",
              "      <th>Low</th>\n",
              "      <th>Close</th>\n",
              "      <th>Adj Close</th>\n",
              "      <th>Volume</th>\n",
              "    </tr>\n",
              "  </thead>\n",
              "  <tbody>\n",
              "    <tr>\n",
              "      <th>4133</th>\n",
              "      <td>2021-06-04</td>\n",
              "      <td>124.070000</td>\n",
              "      <td>126.160004</td>\n",
              "      <td>123.849998</td>\n",
              "      <td>125.889999</td>\n",
              "      <td>125.889999</td>\n",
              "      <td>75087300</td>\n",
              "    </tr>\n",
              "    <tr>\n",
              "      <th>4134</th>\n",
              "      <td>2021-06-07</td>\n",
              "      <td>126.169998</td>\n",
              "      <td>126.320000</td>\n",
              "      <td>124.830002</td>\n",
              "      <td>125.900002</td>\n",
              "      <td>125.900002</td>\n",
              "      <td>71057600</td>\n",
              "    </tr>\n",
              "    <tr>\n",
              "      <th>4135</th>\n",
              "      <td>2021-06-08</td>\n",
              "      <td>126.599998</td>\n",
              "      <td>128.460007</td>\n",
              "      <td>126.209999</td>\n",
              "      <td>126.739998</td>\n",
              "      <td>126.739998</td>\n",
              "      <td>74403800</td>\n",
              "    </tr>\n",
              "    <tr>\n",
              "      <th>4136</th>\n",
              "      <td>2021-06-09</td>\n",
              "      <td>127.209999</td>\n",
              "      <td>127.750000</td>\n",
              "      <td>126.519997</td>\n",
              "      <td>127.129997</td>\n",
              "      <td>127.129997</td>\n",
              "      <td>56877900</td>\n",
              "    </tr>\n",
              "    <tr>\n",
              "      <th>4137</th>\n",
              "      <td>2021-06-10</td>\n",
              "      <td>127.019997</td>\n",
              "      <td>128.190002</td>\n",
              "      <td>125.940002</td>\n",
              "      <td>126.110001</td>\n",
              "      <td>126.110001</td>\n",
              "      <td>71086200</td>\n",
              "    </tr>\n",
              "  </tbody>\n",
              "</table>\n",
              "</div>"
            ],
            "text/plain": [
              "            Date        Open        High  ...       Close   Adj Close    Volume\n",
              "4133  2021-06-04  124.070000  126.160004  ...  125.889999  125.889999  75087300\n",
              "4134  2021-06-07  126.169998  126.320000  ...  125.900002  125.900002  71057600\n",
              "4135  2021-06-08  126.599998  128.460007  ...  126.739998  126.739998  74403800\n",
              "4136  2021-06-09  127.209999  127.750000  ...  127.129997  127.129997  56877900\n",
              "4137  2021-06-10  127.019997  128.190002  ...  126.110001  126.110001  71086200\n",
              "\n",
              "[5 rows x 7 columns]"
            ]
          },
          "metadata": {
            "tags": []
          },
          "execution_count": 6
        }
      ]
    },
    {
      "cell_type": "code",
      "metadata": {
        "id": "1lEEhxkjdf77"
      },
      "source": [
        "def prepare_dat(df):\n",
        "  df2=df.copy()\n",
        "  df2.set_index('Date',inplace=True)\n",
        "  df2.drop(['Open','High','Low','Close','Volume'],axis=1,inplace=True)\n",
        "  return df2"
      ],
      "execution_count": 5,
      "outputs": []
    },
    {
      "cell_type": "code",
      "metadata": {
        "id": "Kc9NF5hZUPwD"
      },
      "source": [
        "aapl2=prepare_dat(aapl)"
      ],
      "execution_count": 6,
      "outputs": []
    },
    {
      "cell_type": "code",
      "metadata": {
        "id": "EsDI2CecZELs",
        "colab": {
          "base_uri": "https://localhost:8080/",
          "height": 235
        },
        "outputId": "1065c131-ecad-4b4f-96f3-1c1b59299627"
      },
      "source": [
        "aapl2.head()"
      ],
      "execution_count": null,
      "outputs": [
        {
          "output_type": "execute_result",
          "data": {
            "text/html": [
              "<div>\n",
              "<style scoped>\n",
              "    .dataframe tbody tr th:only-of-type {\n",
              "        vertical-align: middle;\n",
              "    }\n",
              "\n",
              "    .dataframe tbody tr th {\n",
              "        vertical-align: top;\n",
              "    }\n",
              "\n",
              "    .dataframe thead th {\n",
              "        text-align: right;\n",
              "    }\n",
              "</style>\n",
              "<table border=\"1\" class=\"dataframe\">\n",
              "  <thead>\n",
              "    <tr style=\"text-align: right;\">\n",
              "      <th></th>\n",
              "      <th>Adj Close</th>\n",
              "    </tr>\n",
              "    <tr>\n",
              "      <th>Date</th>\n",
              "      <th></th>\n",
              "    </tr>\n",
              "  </thead>\n",
              "  <tbody>\n",
              "    <tr>\n",
              "      <th>2005-01-03</th>\n",
              "      <td>0.971844</td>\n",
              "    </tr>\n",
              "    <tr>\n",
              "      <th>2005-01-04</th>\n",
              "      <td>0.981825</td>\n",
              "    </tr>\n",
              "    <tr>\n",
              "      <th>2005-01-05</th>\n",
              "      <td>0.990424</td>\n",
              "    </tr>\n",
              "    <tr>\n",
              "      <th>2005-01-06</th>\n",
              "      <td>0.991192</td>\n",
              "    </tr>\n",
              "    <tr>\n",
              "      <th>2005-01-07</th>\n",
              "      <td>1.063362</td>\n",
              "    </tr>\n",
              "  </tbody>\n",
              "</table>\n",
              "</div>"
            ],
            "text/plain": [
              "            Adj Close\n",
              "Date                 \n",
              "2005-01-03   0.971844\n",
              "2005-01-04   0.981825\n",
              "2005-01-05   0.990424\n",
              "2005-01-06   0.991192\n",
              "2005-01-07   1.063362"
            ]
          },
          "metadata": {
            "tags": []
          },
          "execution_count": 59
        }
      ]
    },
    {
      "cell_type": "markdown",
      "metadata": {
        "id": "16Y5aHonFbpl"
      },
      "source": [
        "Function to get lagged data"
      ]
    },
    {
      "cell_type": "code",
      "metadata": {
        "id": "TerzjWq6Xh8P"
      },
      "source": [
        "def create_lags(df,column,num):\n",
        "  df2=df.copy()\n",
        "  for i in range(1,num):\n",
        "    df2[column+str(-i)]=df2[column].shift(i)\n",
        "  df2.dropna(inplace=True)\n",
        "  return df2      "
      ],
      "execution_count": 7,
      "outputs": []
    },
    {
      "cell_type": "code",
      "metadata": {
        "id": "zx6jMU85ZXE6"
      },
      "source": [
        "X=create_lags(aapl2,'Adj Close',6)"
      ],
      "execution_count": 8,
      "outputs": []
    },
    {
      "cell_type": "code",
      "metadata": {
        "colab": {
          "base_uri": "https://localhost:8080/",
          "height": 235
        },
        "id": "O55thBLaZuCL",
        "outputId": "e0d33090-2814-4fff-c79b-218d33e9d426"
      },
      "source": [
        "X.head()"
      ],
      "execution_count": null,
      "outputs": [
        {
          "output_type": "execute_result",
          "data": {
            "text/html": [
              "<div>\n",
              "<style scoped>\n",
              "    .dataframe tbody tr th:only-of-type {\n",
              "        vertical-align: middle;\n",
              "    }\n",
              "\n",
              "    .dataframe tbody tr th {\n",
              "        vertical-align: top;\n",
              "    }\n",
              "\n",
              "    .dataframe thead th {\n",
              "        text-align: right;\n",
              "    }\n",
              "</style>\n",
              "<table border=\"1\" class=\"dataframe\">\n",
              "  <thead>\n",
              "    <tr style=\"text-align: right;\">\n",
              "      <th></th>\n",
              "      <th>Adj Close</th>\n",
              "      <th>Adj Close-1</th>\n",
              "      <th>Adj Close-2</th>\n",
              "      <th>Adj Close-3</th>\n",
              "      <th>Adj Close-4</th>\n",
              "      <th>Adj Close-5</th>\n",
              "    </tr>\n",
              "    <tr>\n",
              "      <th>Date</th>\n",
              "      <th></th>\n",
              "      <th></th>\n",
              "      <th></th>\n",
              "      <th></th>\n",
              "      <th></th>\n",
              "      <th></th>\n",
              "    </tr>\n",
              "  </thead>\n",
              "  <tbody>\n",
              "    <tr>\n",
              "      <th>2005-01-10</th>\n",
              "      <td>1.058909</td>\n",
              "      <td>1.063362</td>\n",
              "      <td>0.991192</td>\n",
              "      <td>0.990424</td>\n",
              "      <td>0.981825</td>\n",
              "      <td>0.971844</td>\n",
              "    </tr>\n",
              "    <tr>\n",
              "      <th>2005-01-11</th>\n",
              "      <td>0.991345</td>\n",
              "      <td>1.058909</td>\n",
              "      <td>1.063362</td>\n",
              "      <td>0.991192</td>\n",
              "      <td>0.990424</td>\n",
              "      <td>0.981825</td>\n",
              "    </tr>\n",
              "    <tr>\n",
              "      <th>2005-01-12</th>\n",
              "      <td>1.005165</td>\n",
              "      <td>0.991345</td>\n",
              "      <td>1.058909</td>\n",
              "      <td>1.063362</td>\n",
              "      <td>0.991192</td>\n",
              "      <td>0.990424</td>\n",
              "    </tr>\n",
              "    <tr>\n",
              "      <th>2005-01-13</th>\n",
              "      <td>1.071808</td>\n",
              "      <td>1.005165</td>\n",
              "      <td>0.991345</td>\n",
              "      <td>1.058909</td>\n",
              "      <td>1.063362</td>\n",
              "      <td>0.991192</td>\n",
              "    </tr>\n",
              "    <tr>\n",
              "      <th>2005-01-14</th>\n",
              "      <td>1.077950</td>\n",
              "      <td>1.071808</td>\n",
              "      <td>1.005165</td>\n",
              "      <td>0.991345</td>\n",
              "      <td>1.058909</td>\n",
              "      <td>1.063362</td>\n",
              "    </tr>\n",
              "  </tbody>\n",
              "</table>\n",
              "</div>"
            ],
            "text/plain": [
              "            Adj Close  Adj Close-1  ...  Adj Close-4  Adj Close-5\n",
              "Date                                ...                          \n",
              "2005-01-10   1.058909     1.063362  ...     0.981825     0.971844\n",
              "2005-01-11   0.991345     1.058909  ...     0.990424     0.981825\n",
              "2005-01-12   1.005165     0.991345  ...     0.991192     0.990424\n",
              "2005-01-13   1.071808     1.005165  ...     1.063362     0.991192\n",
              "2005-01-14   1.077950     1.071808  ...     1.058909     1.063362\n",
              "\n",
              "[5 rows x 6 columns]"
            ]
          },
          "metadata": {
            "tags": []
          },
          "execution_count": 14
        }
      ]
    },
    {
      "cell_type": "code",
      "metadata": {
        "id": "VqJ2yhVYZyo4"
      },
      "source": [
        "y=X['Adj Close'].pct_change()\n",
        "X=X.drop('Adj Close',axis=1).pct_change()"
      ],
      "execution_count": 9,
      "outputs": []
    },
    {
      "cell_type": "code",
      "metadata": {
        "id": "KWFSDzSZfdR6"
      },
      "source": [
        "y=y.dropna()\n",
        "X=X.dropna()"
      ],
      "execution_count": 10,
      "outputs": []
    },
    {
      "cell_type": "code",
      "metadata": {
        "colab": {
          "base_uri": "https://localhost:8080/"
        },
        "id": "Hr7VsylifW1f",
        "outputId": "d99bc043-8e5e-401b-b4b0-92a4fdfce4a2"
      },
      "source": [
        "y.values"
      ],
      "execution_count": null,
      "outputs": [
        {
          "output_type": "execute_result",
          "data": {
            "text/plain": [
              "array([-0.06380529,  0.01394066,  0.06630056, ...,  0.00667193,\n",
              "        0.00307716, -0.00802325])"
            ]
          },
          "metadata": {
            "tags": []
          },
          "execution_count": 15
        }
      ]
    },
    {
      "cell_type": "markdown",
      "metadata": {
        "id": "wrIy92Tcccgk"
      },
      "source": [
        "#Classification"
      ]
    },
    {
      "cell_type": "code",
      "metadata": {
        "id": "pJdDMhhFaPZ8"
      },
      "source": [
        "y_cl=(y.values>0).astype(int)"
      ],
      "execution_count": 11,
      "outputs": []
    },
    {
      "cell_type": "code",
      "metadata": {
        "colab": {
          "base_uri": "https://localhost:8080/"
        },
        "id": "zEWOhYGEfRVb",
        "outputId": "e7a6acb0-ab0c-42db-a11f-e392e530a69b"
      },
      "source": [
        "y_cl"
      ],
      "execution_count": null,
      "outputs": [
        {
          "output_type": "execute_result",
          "data": {
            "text/plain": [
              "array([0, 1, 1, ..., 1, 1, 0])"
            ]
          },
          "metadata": {
            "tags": []
          },
          "execution_count": 18
        }
      ]
    },
    {
      "cell_type": "code",
      "metadata": {
        "id": "fuVqD0ezgGrz",
        "colab": {
          "base_uri": "https://localhost:8080/",
          "height": 235
        },
        "outputId": "7677f61d-2812-4213-8fd1-aa3a80cf08a3"
      },
      "source": [
        "X.head()"
      ],
      "execution_count": null,
      "outputs": [
        {
          "output_type": "execute_result",
          "data": {
            "text/html": [
              "<div>\n",
              "<style scoped>\n",
              "    .dataframe tbody tr th:only-of-type {\n",
              "        vertical-align: middle;\n",
              "    }\n",
              "\n",
              "    .dataframe tbody tr th {\n",
              "        vertical-align: top;\n",
              "    }\n",
              "\n",
              "    .dataframe thead th {\n",
              "        text-align: right;\n",
              "    }\n",
              "</style>\n",
              "<table border=\"1\" class=\"dataframe\">\n",
              "  <thead>\n",
              "    <tr style=\"text-align: right;\">\n",
              "      <th></th>\n",
              "      <th>Adj Close-1</th>\n",
              "      <th>Adj Close-2</th>\n",
              "      <th>Adj Close-3</th>\n",
              "      <th>Adj Close-4</th>\n",
              "      <th>Adj Close-5</th>\n",
              "    </tr>\n",
              "    <tr>\n",
              "      <th>Date</th>\n",
              "      <th></th>\n",
              "      <th></th>\n",
              "      <th></th>\n",
              "      <th></th>\n",
              "      <th></th>\n",
              "    </tr>\n",
              "  </thead>\n",
              "  <tbody>\n",
              "    <tr>\n",
              "      <th>2005-01-11</th>\n",
              "      <td>-0.004188</td>\n",
              "      <td>0.072811</td>\n",
              "      <td>0.000775</td>\n",
              "      <td>0.008758</td>\n",
              "      <td>0.010270</td>\n",
              "    </tr>\n",
              "    <tr>\n",
              "      <th>2005-01-12</th>\n",
              "      <td>-0.063805</td>\n",
              "      <td>-0.004188</td>\n",
              "      <td>0.072811</td>\n",
              "      <td>0.000775</td>\n",
              "      <td>0.008758</td>\n",
              "    </tr>\n",
              "    <tr>\n",
              "      <th>2005-01-13</th>\n",
              "      <td>0.013941</td>\n",
              "      <td>-0.063805</td>\n",
              "      <td>-0.004188</td>\n",
              "      <td>0.072811</td>\n",
              "      <td>0.000775</td>\n",
              "    </tr>\n",
              "    <tr>\n",
              "      <th>2005-01-14</th>\n",
              "      <td>0.066301</td>\n",
              "      <td>0.013941</td>\n",
              "      <td>-0.063805</td>\n",
              "      <td>-0.004188</td>\n",
              "      <td>0.072811</td>\n",
              "    </tr>\n",
              "    <tr>\n",
              "      <th>2005-01-18</th>\n",
              "      <td>0.005731</td>\n",
              "      <td>0.066301</td>\n",
              "      <td>0.013941</td>\n",
              "      <td>-0.063805</td>\n",
              "      <td>-0.004188</td>\n",
              "    </tr>\n",
              "  </tbody>\n",
              "</table>\n",
              "</div>"
            ],
            "text/plain": [
              "            Adj Close-1  Adj Close-2  Adj Close-3  Adj Close-4  Adj Close-5\n",
              "Date                                                                       \n",
              "2005-01-11    -0.004188     0.072811     0.000775     0.008758     0.010270\n",
              "2005-01-12    -0.063805    -0.004188     0.072811     0.000775     0.008758\n",
              "2005-01-13     0.013941    -0.063805    -0.004188     0.072811     0.000775\n",
              "2005-01-14     0.066301     0.013941    -0.063805    -0.004188     0.072811\n",
              "2005-01-18     0.005731     0.066301     0.013941    -0.063805    -0.004188"
            ]
          },
          "metadata": {
            "tags": []
          },
          "execution_count": 17
        }
      ]
    },
    {
      "cell_type": "code",
      "metadata": {
        "id": "WGNyniWkP70a"
      },
      "source": [
        "Xtrain,Xval,Xtest,ytrain,yval,ytest=X.iloc[:3000,:],X.iloc[3000:3500,:],X.iloc[3500:,:],y_cl[:3000],y_cl[3000:3500],y_cl[3500:]"
      ],
      "execution_count": null,
      "outputs": []
    },
    {
      "cell_type": "code",
      "metadata": {
        "id": "u50fel5qixlQ"
      },
      "source": [
        "def scores(model,Xtrain,ytrain,Xval,yval):\n",
        "  model.fit(Xtrain,ytrain)\n",
        "  pred_tr=model.predict(Xtrain)\n",
        "  sc_tr=accuracy_score(pred_tr,ytrain)\n",
        "  pred_val=model.predict(Xval)\n",
        "  sc_val=accuracy_score(pred_val,yval)\n",
        "  return sc_tr,sc_val"
      ],
      "execution_count": null,
      "outputs": []
    },
    {
      "cell_type": "code",
      "metadata": {
        "colab": {
          "base_uri": "https://localhost:8080/"
        },
        "id": "Gc48Ksi4QUbl",
        "outputId": "ef57e727-1d5f-45f3-cb9d-046f29a953c8"
      },
      "source": [
        "log_reg=LogisticRegression()\n",
        "print(\"Scores base logistic: \", scores(log_reg,Xtrain,ytrain,Xval,yval))"
      ],
      "execution_count": null,
      "outputs": [
        {
          "output_type": "stream",
          "text": [
            "Scores base logistic:  (0.5253333333333333, 0.538)\n"
          ],
          "name": "stdout"
        }
      ]
    },
    {
      "cell_type": "code",
      "metadata": {
        "colab": {
          "base_uri": "https://localhost:8080/"
        },
        "id": "OAy43ZIokCoL",
        "outputId": "e7490b6a-e042-45c1-8632-bdfeccea7495"
      },
      "source": [
        "lin_svc=LinearSVC()\n",
        "print(\"Scores Linear SVC: \", scores(lin_svc,Xtrain,ytrain,Xval,yval))"
      ],
      "execution_count": null,
      "outputs": [
        {
          "output_type": "stream",
          "text": [
            "Scores Linear SVC:  (0.5303333333333333, 0.538)\n"
          ],
          "name": "stdout"
        }
      ]
    },
    {
      "cell_type": "code",
      "metadata": {
        "colab": {
          "base_uri": "https://localhost:8080/"
        },
        "id": "4Tsa0gthkQDH",
        "outputId": "5f4d68c4-4bae-4293-d57f-bb2cc086078d"
      },
      "source": [
        "svc=SVC()\n",
        "print(\"Scores base SVC: \", scores(svc,Xtrain,ytrain,Xval,yval))"
      ],
      "execution_count": null,
      "outputs": [
        {
          "output_type": "stream",
          "text": [
            "Scores base SVC:  (0.5953333333333334, 0.526)\n"
          ],
          "name": "stdout"
        }
      ]
    },
    {
      "cell_type": "code",
      "metadata": {
        "colab": {
          "base_uri": "https://localhost:8080/"
        },
        "id": "O-Ea3yczagOr",
        "outputId": "9c287281-5c10-4a81-8edf-9d53fac9b196"
      },
      "source": [
        "rf=RandomForestClassifier()\n",
        "print(\"Scores base RF: \", scores(rf,Xtrain,ytrain,Xval,yval))"
      ],
      "execution_count": null,
      "outputs": [
        {
          "output_type": "stream",
          "text": [
            "Scores base RF:  (1.0, 0.518)\n"
          ],
          "name": "stdout"
        }
      ]
    },
    {
      "cell_type": "code",
      "metadata": {
        "colab": {
          "base_uri": "https://localhost:8080/"
        },
        "id": "yWknPVWxUhLl",
        "outputId": "ea55a027-40e6-48d6-f5a6-258f41bdc290"
      },
      "source": [
        "grid_svc=[\n",
        "          {'kernel':['rbf','poly','sigmoid'],'gamma':np.arange(1,11),'C':[0.001,0.01,0.1],'degree':[2,3,4,5,7]}\n",
        "]\n",
        "search_svc=RandomizedSearchCV(svc,grid_svc,n_iter=100,n_jobs=-1)\n",
        "search_svc.fit(Xtrain,ytrain)"
      ],
      "execution_count": null,
      "outputs": [
        {
          "output_type": "execute_result",
          "data": {
            "text/plain": [
              "RandomizedSearchCV(cv=None, error_score=nan,\n",
              "                   estimator=SVC(C=1.0, break_ties=False, cache_size=200,\n",
              "                                 class_weight=None, coef0=0.0,\n",
              "                                 decision_function_shape='ovr', degree=3,\n",
              "                                 gamma='scale', kernel='rbf', max_iter=-1,\n",
              "                                 probability=False, random_state=None,\n",
              "                                 shrinking=True, tol=0.001, verbose=False),\n",
              "                   iid='deprecated', n_iter=100, n_jobs=-1,\n",
              "                   param_distributions=[{'C': [0.001, 0.01, 0.1],\n",
              "                                         'degree': [2, 3, 4, 5, 7],\n",
              "                                         'gamma': array([ 1,  2,  3,  4,  5,  6,  7,  8,  9, 10]),\n",
              "                                         'kernel': ['rbf', 'poly', 'sigmoid']}],\n",
              "                   pre_dispatch='2*n_jobs', random_state=None, refit=True,\n",
              "                   return_train_score=False, scoring=None, verbose=0)"
            ]
          },
          "metadata": {
            "tags": []
          },
          "execution_count": 27
        }
      ]
    },
    {
      "cell_type": "code",
      "metadata": {
        "colab": {
          "base_uri": "https://localhost:8080/"
        },
        "id": "ICZQuW1RXjED",
        "outputId": "16822307-efcf-473b-ffc1-ba1e1408cd6d"
      },
      "source": [
        "search_svc.best_params_"
      ],
      "execution_count": null,
      "outputs": [
        {
          "output_type": "execute_result",
          "data": {
            "text/plain": [
              "{'C': 0.01, 'degree': 5, 'gamma': 1, 'kernel': 'sigmoid'}"
            ]
          },
          "metadata": {
            "tags": []
          },
          "execution_count": 28
        }
      ]
    },
    {
      "cell_type": "code",
      "metadata": {
        "colab": {
          "base_uri": "https://localhost:8080/"
        },
        "id": "BsdMQo5tZ0es",
        "outputId": "99235eae-41f1-4cd0-8506-dc82820997e0"
      },
      "source": [
        "svc_tw=SVC(**search_svc.best_params_)\n",
        "print(\"Scores tweaked SVC: \", scores(svc_tw,Xtrain,ytrain,Xval,yval))"
      ],
      "execution_count": null,
      "outputs": [
        {
          "output_type": "stream",
          "text": [
            "Scores tweaked SVC:  (0.525, 0.538)\n"
          ],
          "name": "stdout"
        }
      ]
    },
    {
      "cell_type": "code",
      "metadata": {
        "id": "mFV1ho6zdrhm"
      },
      "source": [
        "grid_logistic=[\n",
        "               {'penalty':['l2','l1','elasticnet'],'l1_ratio':[0.1,0.3,0.5,0.7],'solver':['saga'],'C':[1,0.1,0.01,0.001]}\n",
        "]\n",
        "search_log=GridSearchCV(log_reg,grid_logistic,scoring='accuracy',verbose=0)\n",
        "search_log.fit(Xtrain,ytrain)"
      ],
      "execution_count": null,
      "outputs": []
    },
    {
      "cell_type": "code",
      "metadata": {
        "colab": {
          "base_uri": "https://localhost:8080/"
        },
        "id": "kaU_69RNeTQK",
        "outputId": "5b1f64b1-f583-4b34-eb0f-95f26e592d3c"
      },
      "source": [
        "search_log.best_params_"
      ],
      "execution_count": null,
      "outputs": [
        {
          "output_type": "execute_result",
          "data": {
            "text/plain": [
              "{'C': 1, 'l1_ratio': 0.1, 'penalty': 'l2', 'solver': 'saga'}"
            ]
          },
          "metadata": {
            "tags": []
          },
          "execution_count": 33
        }
      ]
    },
    {
      "cell_type": "code",
      "metadata": {
        "colab": {
          "base_uri": "https://localhost:8080/"
        },
        "id": "nQ1Bc2y-flvI",
        "outputId": "b5e5dcb5-4e69-491f-c388-eccc47575280"
      },
      "source": [
        "log_reg_tw=LogisticRegression(**search_log.best_params_)\n",
        "print(\"Scores tweaked Logistic: \", scores(log_reg_tw,Xtrain,ytrain,Xval,yval))"
      ],
      "execution_count": null,
      "outputs": [
        {
          "output_type": "stream",
          "text": [
            "Scores tweaked Logistic:  (0.5253333333333333, 0.538)\n"
          ],
          "name": "stdout"
        },
        {
          "output_type": "stream",
          "text": [
            "/usr/local/lib/python3.7/dist-packages/sklearn/linear_model/_logistic.py:1501: UserWarning: l1_ratio parameter is only used when penalty is 'elasticnet'. Got (penalty=l2)\n",
            "  \"(penalty={})\".format(self.penalty))\n"
          ],
          "name": "stderr"
        }
      ]
    },
    {
      "cell_type": "code",
      "metadata": {
        "id": "yxwJi-Jqf7HD"
      },
      "source": [
        "p1=log_reg.predict(Xval)\n",
        "p2=svc.predict(Xval)\n"
      ],
      "execution_count": null,
      "outputs": []
    },
    {
      "cell_type": "code",
      "metadata": {
        "id": "X5eV-5_1gPIG"
      },
      "source": [
        "p1"
      ],
      "execution_count": null,
      "outputs": []
    },
    {
      "cell_type": "code",
      "metadata": {
        "id": "YHc30js_gQC6"
      },
      "source": [
        "p2"
      ],
      "execution_count": null,
      "outputs": []
    },
    {
      "cell_type": "code",
      "metadata": {
        "id": "AyTfS0lPR7P1"
      },
      "source": [
        "p3=rf.predict(Xval)\n",
        "print(p3)"
      ],
      "execution_count": null,
      "outputs": []
    },
    {
      "cell_type": "code",
      "metadata": {
        "id": "Y3SNFm9jSHV1",
        "colab": {
          "base_uri": "https://localhost:8080/"
        },
        "outputId": "785966ba-7e0c-4c85-85ad-aa0da5308b02"
      },
      "source": [
        "rf_tw=RandomForestClassifier(max_depth=1,n_estimators=10000)\n",
        "print('Scores tweaked RF: ', scores(rf_tw,Xtrain,ytrain,Xval,yval))"
      ],
      "execution_count": null,
      "outputs": [
        {
          "output_type": "stream",
          "text": [
            "Scores tweaked RF:  (0.5353333333333333, 0.536)\n"
          ],
          "name": "stdout"
        }
      ]
    },
    {
      "cell_type": "code",
      "metadata": {
        "id": "l7bzXisZ-P7r"
      },
      "source": [
        "p4=rf_tw.predict(Xval)\n",
        "print(p4)"
      ],
      "execution_count": null,
      "outputs": []
    },
    {
      "cell_type": "code",
      "metadata": {
        "colab": {
          "base_uri": "https://localhost:8080/"
        },
        "id": "0d4hVtmHauP2",
        "outputId": "f67961c6-e61e-4e19-d386-63ce07260727"
      },
      "source": [
        "ada_tree=AdaBoostClassifier(DecisionTreeClassifier(max_depth=1),n_estimators=10000)\n",
        "print(\"Scores AdaBoost Tree: \", scores(ada_tree,Xtrain,ytrain,Xval,yval))"
      ],
      "execution_count": null,
      "outputs": [
        {
          "output_type": "stream",
          "text": [
            "Scores AdaBoost Tree:  (0.866, 0.474)\n"
          ],
          "name": "stdout"
        }
      ]
    },
    {
      "cell_type": "code",
      "metadata": {
        "id": "8dRIqa0TcLbz",
        "colab": {
          "base_uri": "https://localhost:8080/"
        },
        "outputId": "32ead1f0-e6fb-4319-8cdb-cdb222353839"
      },
      "source": [
        "p1_test=log_reg.predict(Xtest)\n",
        "p2_test=svc.predict(Xtest)\n",
        "p3_test=log_reg_tw.predict(Xtest)\n",
        "p4_test=svc_tw.predict(Xtest)\n",
        "p5_test=rf.predict(Xtest)\n",
        "p6_test=rf_tw.predict(Xtest)\n",
        "p7_test=ada_tree.predict(Xtest)\n",
        "print('Test base logistic: ', accuracy_score(ytest,p1_test))\n",
        "print('Test base SVC: ', accuracy_score(ytest,p2_test))\n",
        "print('Test tweaked logistic: ', accuracy_score(ytest,p3_test))\n",
        "print('Test tweaked SVC: ', accuracy_score(ytest,p4_test))\n",
        "print('Test base RF: ', accuracy_score(ytest,p5_test))\n",
        "print('Test tweaked RF: ', accuracy_score(ytest,p6_test))\n",
        "print('Test AdaBoost ', accuracy_score(ytest,p7_test))"
      ],
      "execution_count": null,
      "outputs": [
        {
          "output_type": "stream",
          "text": [
            "Test base logistic:  0.5443037974683544\n",
            "Test base SVC:  0.5363924050632911\n",
            "Test tweaked logistic:  0.5443037974683544\n",
            "Test tweaked SVC:  0.5443037974683544\n",
            "Test base RF:  0.5158227848101266\n",
            "Test tweaked RF:  0.5490506329113924\n",
            "Test AdaBoost  0.49841772151898733\n"
          ],
          "name": "stdout"
        }
      ]
    },
    {
      "cell_type": "markdown",
      "metadata": {
        "id": "GgLYLQjvA_Eq"
      },
      "source": [
        "With base set of features the **tweaked Random Forest** model performs the best on the test set with score ***0.549***. **Base logistic, tweaked logistic and tweaked SVC** always predict the same outcome (all 1s) on both test and validation sets which is not a good sign."
      ]
    },
    {
      "cell_type": "markdown",
      "metadata": {
        "id": "dKDm-KHWEcD-"
      },
      "source": [
        "#Regression"
      ]
    },
    {
      "cell_type": "code",
      "metadata": {
        "id": "DiI2u0LcEir_"
      },
      "source": [
        "y_reg=y.values"
      ],
      "execution_count": 12,
      "outputs": []
    },
    {
      "cell_type": "code",
      "metadata": {
        "id": "8cczIIy4S4mK"
      },
      "source": [
        "Xtrain,Xval,Xtest,ytrain,yval,ytest=X.iloc[:3000,:],X.iloc[3000:3500,:],X.iloc[3500:,:],y_reg[:3000],y_reg[3000:3500],y_reg[3500:]"
      ],
      "execution_count": 13,
      "outputs": []
    },
    {
      "cell_type": "code",
      "metadata": {
        "id": "I12f8RX1TOnA"
      },
      "source": [
        "def get_scores_reg(model,Xtrain,ytrain,Xval,yval):\n",
        "  model.fit(Xtrain,ytrain)\n",
        "  pred_tr=model.predict(Xtrain)\n",
        "  sc_tr=mean_absolute_error(pred_tr,ytrain)\n",
        "  pred_val=model.predict(Xval)\n",
        "  sc_val=mean_absolute_error(pred_val,yval)\n",
        "  return sc_tr,sc_val"
      ],
      "execution_count": 14,
      "outputs": []
    },
    {
      "cell_type": "code",
      "metadata": {
        "colab": {
          "base_uri": "https://localhost:8080/"
        },
        "id": "iH3pe82XTFCz",
        "outputId": "a3370546-fa3a-4a3c-df20-9d24c62e0cf2"
      },
      "source": [
        "lin_svr=LinearSVR()\n",
        "lin_svr.fit(Xtrain,ytrain)\n",
        "print(\"MAE SVR: \", get_scores_reg(lin_svr,Xtrain,ytrain,Xval,yval))"
      ],
      "execution_count": null,
      "outputs": [
        {
          "output_type": "stream",
          "text": [
            "MAE SVR:  (0.015150257591654115, 0.009887131620297031)\n"
          ],
          "name": "stdout"
        },
        {
          "output_type": "stream",
          "text": [
            "/usr/local/lib/python3.7/dist-packages/sklearn/svm/_base.py:947: ConvergenceWarning: Liblinear failed to converge, increase the number of iterations.\n",
            "  \"the number of iterations.\", ConvergenceWarning)\n",
            "/usr/local/lib/python3.7/dist-packages/sklearn/svm/_base.py:947: ConvergenceWarning: Liblinear failed to converge, increase the number of iterations.\n",
            "  \"the number of iterations.\", ConvergenceWarning)\n"
          ],
          "name": "stderr"
        }
      ]
    },
    {
      "cell_type": "code",
      "metadata": {
        "colab": {
          "base_uri": "https://localhost:8080/"
        },
        "id": "V4YbEq8-T8H5",
        "outputId": "5d96c34f-659c-4b8f-a1aa-f045cc62f42a"
      },
      "source": [
        "svr=SVR()\n",
        "print(\"MAE base SVR: \", get_scores_reg(svr,Xtrain,ytrain,Xval,yval))"
      ],
      "execution_count": 15,
      "outputs": [
        {
          "output_type": "stream",
          "text": [
            "MAE base SVR:  (0.016302618495359154, 0.011672638286708418)\n"
          ],
          "name": "stdout"
        }
      ]
    },
    {
      "cell_type": "code",
      "metadata": {
        "colab": {
          "base_uri": "https://localhost:8080/"
        },
        "id": "DYeC_DN5UNdW",
        "outputId": "6d6b644a-2cc6-48a1-8eef-2dbbeb2c4009"
      },
      "source": [
        "grid_svr=[\n",
        "          {'kernel':['rbf','sigmoid'],'gamma':[1,5,10],'C':[0.001,0.01,0.1]}\n",
        "]\n",
        "search_svr=GridSearchCV(svr,grid_svr,n_jobs=-1)\n",
        "search_svr.fit(Xtrain,ytrain)"
      ],
      "execution_count": 16,
      "outputs": [
        {
          "output_type": "execute_result",
          "data": {
            "text/plain": [
              "GridSearchCV(cv=None, error_score=nan,\n",
              "             estimator=SVR(C=1.0, cache_size=200, coef0=0.0, degree=3,\n",
              "                           epsilon=0.1, gamma='scale', kernel='rbf',\n",
              "                           max_iter=-1, shrinking=True, tol=0.001,\n",
              "                           verbose=False),\n",
              "             iid='deprecated', n_jobs=-1,\n",
              "             param_grid=[{'C': [0.001, 0.01, 0.1], 'gamma': [1, 5, 10],\n",
              "                          'kernel': ['rbf', 'sigmoid']}],\n",
              "             pre_dispatch='2*n_jobs', refit=True, return_train_score=False,\n",
              "             scoring=None, verbose=0)"
            ]
          },
          "metadata": {
            "tags": []
          },
          "execution_count": 16
        }
      ]
    },
    {
      "cell_type": "code",
      "metadata": {
        "colab": {
          "base_uri": "https://localhost:8080/"
        },
        "id": "Po6VgM_FUkA5",
        "outputId": "723914f6-68db-4f8a-9c9f-7a0c53cff374"
      },
      "source": [
        "search_svr.best_params_"
      ],
      "execution_count": 17,
      "outputs": [
        {
          "output_type": "execute_result",
          "data": {
            "text/plain": [
              "{'C': 0.001, 'gamma': 1, 'kernel': 'sigmoid'}"
            ]
          },
          "metadata": {
            "tags": []
          },
          "execution_count": 17
        }
      ]
    },
    {
      "cell_type": "code",
      "metadata": {
        "colab": {
          "base_uri": "https://localhost:8080/"
        },
        "id": "jh_-tkzhf0cP",
        "outputId": "3ecc681a-bc9f-4829-e129-74f8cf99d4b9"
      },
      "source": [
        "svr_tw=SVR(**search_svr.best_params_)\n",
        "print(\"MAE tweaked SVR: \", get_scores_reg(svr_tw,Xtrain,ytrain,Xval,yval))"
      ],
      "execution_count": 18,
      "outputs": [
        {
          "output_type": "stream",
          "text": [
            "MAE tweaked SVR:  (0.015937137668523588, 0.011103556330297018)\n"
          ],
          "name": "stdout"
        }
      ]
    },
    {
      "cell_type": "code",
      "metadata": {
        "colab": {
          "base_uri": "https://localhost:8080/"
        },
        "id": "JOlBZFZFgeIk",
        "outputId": "ffeb954b-61a6-4f9e-e056-6e3073ac7369"
      },
      "source": [
        "rf_reg=RandomForestRegressor()\n",
        "print(\"MAE base RF: \", get_scores_reg(rf_reg,Xtrain,ytrain,Xval,yval))"
      ],
      "execution_count": 19,
      "outputs": [
        {
          "output_type": "stream",
          "text": [
            "MAE base RF:  (0.00594849444919756, 0.010461711018700578)\n"
          ],
          "name": "stdout"
        }
      ]
    },
    {
      "cell_type": "code",
      "metadata": {
        "colab": {
          "base_uri": "https://localhost:8080/"
        },
        "id": "1WgH6XVmg1J6",
        "outputId": "3071b359-aa42-4b90-9d4e-2cbe3bb65c6d"
      },
      "source": [
        "rf_reg_tw=RandomForestRegressor(max_depth=2,n_estimators=1000)\n",
        "print(\"MAE tweaked RF: \", get_scores_reg(rf_reg_tw,Xtrain,ytrain,Xval,yval))"
      ],
      "execution_count": 20,
      "outputs": [
        {
          "output_type": "stream",
          "text": [
            "MAE tweaked RF:  (0.015079397011424201, 0.00990253045248705)\n"
          ],
          "name": "stdout"
        }
      ]
    },
    {
      "cell_type": "markdown",
      "metadata": {
        "id": "bIPVNziMC9lv"
      },
      "source": [
        "Evaluating on test set"
      ]
    },
    {
      "cell_type": "code",
      "metadata": {
        "colab": {
          "base_uri": "https://localhost:8080/"
        },
        "id": "IJMvkwByhuIb",
        "outputId": "b7bb080a-8872-4f3e-c755-41062abac4b2"
      },
      "source": [
        "p1_t=svr_tw.predict(Xtest)\n",
        "p2_t=rf_reg.predict(Xtest)\n",
        "p3_t=rf_reg_tw.predict(Xtest)\n",
        "print('Test MAE SVR tweaked: ', mean_absolute_error(ytest,p1_t))\n",
        "print('Test MAE RF : ', mean_absolute_error(ytest,p2_t))\n",
        "print('Test MAE RF tweaked: ', mean_absolute_error(ytest,p3_t))"
      ],
      "execution_count": 21,
      "outputs": [
        {
          "output_type": "stream",
          "text": [
            "Test MAE SVR tweaked:  0.016326741703785952\n",
            "Test MAE RF :  0.016393698153625288\n",
            "Test MAE RF tweaked:  0.01574121780204323\n"
          ],
          "name": "stdout"
        }
      ]
    },
    {
      "cell_type": "markdown",
      "metadata": {
        "id": "UvnqpTN7DDLZ"
      },
      "source": [
        "Plotting actual and predicted returns"
      ]
    },
    {
      "cell_type": "code",
      "metadata": {
        "colab": {
          "base_uri": "https://localhost:8080/",
          "height": 282
        },
        "id": "Jmqt6GpLjMCy",
        "outputId": "0d29faa8-5843-4c2d-cbbc-d311e15b709a"
      },
      "source": [
        "plt.plot(ytest)\n",
        "plt.plot(p1_t,color='red')\n",
        "plt.plot(p3_t,color='green')\n",
        "plt.legend(['Actual','SVR','RF'])"
      ],
      "execution_count": 26,
      "outputs": [
        {
          "output_type": "execute_result",
          "data": {
            "text/plain": [
              "<matplotlib.legend.Legend at 0x7f6edf4fb110>"
            ]
          },
          "metadata": {
            "tags": []
          },
          "execution_count": 26
        },
        {
          "output_type": "display_data",
          "data": {
            "image/png": "[encoded data removed]",
            "text/plain": [
              "<Figure size 432x288 with 1 Axes>"
            ]
          },
          "metadata": {
            "tags": [],
            "needs_background": "light"
          }
        }
      ]
    },
    {
      "cell_type": "markdown",
      "metadata": {
        "id": "VsEr7z3vEkDV"
      },
      "source": [
        "Both models suffer from underestimating the magnitude of changes. SVR is worse as it always predicts the return to be around 0.006 the next day, without major deviations. There is higher variability in RF predictions making it definetely a better model. "
      ]
    },
    {
      "cell_type": "markdown",
      "metadata": {
        "id": "KHswXt5jDIwp"
      },
      "source": [
        "Backward engineering to stock price"
      ]
    },
    {
      "cell_type": "code",
      "metadata": {
        "id": "L9Xy982c3pdw"
      },
      "source": [
        "start_test=aapl2.loc['2018-12-04'].values\n"
      ],
      "execution_count": 46,
      "outputs": []
    },
    {
      "cell_type": "code",
      "metadata": {
        "id": "8qP3sadf4LZJ"
      },
      "source": [
        "predicted_price_rf=np.empty(633)\n",
        "predicted_price_rf[0]=start_test"
      ],
      "execution_count": 58,
      "outputs": []
    },
    {
      "cell_type": "code",
      "metadata": {
        "id": "tQukckVG6WUc"
      },
      "source": [
        "for i in range(1, predicted_price_rf.shape[0]):\n",
        "  predicted_price_rf[i]=predicted_price_rf[i-1]*(1+p3_t[i-1])"
      ],
      "execution_count": 59,
      "outputs": []
    },
    {
      "cell_type": "markdown",
      "metadata": {
        "id": "jjrlRdpODPRO"
      },
      "source": [
        "Plotting actual and predicted stock price"
      ]
    },
    {
      "cell_type": "code",
      "metadata": {
        "colab": {
          "base_uri": "https://localhost:8080/",
          "height": 296
        },
        "id": "1vJ_JjA366Qq",
        "outputId": "86a6d474-2afb-4d0b-f8c1-23fdbe5fab58"
      },
      "source": [
        "actual_price=aapl2.loc['2018-12-04':].values\n",
        "plt.plot(actual_price)\n",
        "plt.plot(predicted_price_rf,color='red')\n",
        "plt.xlabel('Time, days')\n",
        "plt.ylabel('Price, USD')\n",
        "plt.legend(['Actual price','Price predicted by Random Forest'])"
      ],
      "execution_count": 63,
      "outputs": [
        {
          "output_type": "execute_result",
          "data": {
            "text/plain": [
              "<matplotlib.legend.Legend at 0x7f6ede3d86d0>"
            ]
          },
          "metadata": {
            "tags": []
          },
          "execution_count": 63
        },
        {
          "output_type": "display_data",
          "data": {
            "image/png": "[encoded data removed]",
            "text/plain": [
              "<Figure size 432x288 with 1 Axes>"
            ]
          },
          "metadata": {
            "tags": [],
            "needs_background": "light"
          }
        }
      ]
    },
    {
      "cell_type": "markdown",
      "metadata": {
        "id": "3VJDNi0sFGSP"
      },
      "source": [
        "The RF model severely underestimated increase and overall variability in Apple price"
      ]
    }
  ]
}