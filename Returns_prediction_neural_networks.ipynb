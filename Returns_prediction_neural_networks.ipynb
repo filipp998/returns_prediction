{
  "nbformat": 4,
  "nbformat_minor": 0,
  "metadata": {
    "colab": {
      "name": "Returns_prediction neural networks.ipynb",
      "provenance": [],
      "collapsed_sections": []
    },
    "kernelspec": {
      "name": "python3",
      "display_name": "Python 3"
    },
    "language_info": {
      "name": "python"
    }
  },
  "cells": [
    {
      "cell_type": "code",
      "metadata": {
        "colab": {
          "base_uri": "https://localhost:8080/"
        },
        "id": "vop4j2Se-u8I",
        "outputId": "80009808-adcb-46d4-93f5-f77e5707e8b9"
      },
      "source": [
        "try:\n",
        "    from google.colab import drive\n",
        "    IN_COLAB=True\n",
        "except:\n",
        "    IN_COLAB=False\n",
        "\n",
        "if IN_COLAB:\n",
        "    print(\"We're running Colab\")\n",
        "  \n",
        "if IN_COLAB:\n",
        "    # Mount the Google Drive at mount\n",
        "    mount='/content/gdrive'\n",
        "    print(\"Colab: mounting Google drive on \", mount)\n",
        "\n",
        "    drive.mount(mount)\n",
        "\n",
        "    # Switch to the directory on the Google Drive that you want to use\n",
        "    import os\n",
        "    drive_root = mount + \"/My Drive/ML_for_fun/Stock prediction/Data\"\n",
        "    \n",
        "    # Create drive_root if it doesn't exist\n",
        "    create_drive_root = True\n",
        "    if create_drive_root:\n",
        "        print(\"\\nColab: making sure \", drive_root, \" exists.\")\n",
        "        os.makedirs(drive_root, exist_ok = True)\n",
        "    \n",
        "    # Change to the directory\n",
        "    print(\"\\nColab: Changing directory to \", drive_root)\n",
        "    %cd $drive_root\n",
        "else:\n",
        "    raise RuntimeError(\"This notebook should be run from Colab, not on the local machine\")"
      ],
      "execution_count": 1,
      "outputs": [
        {
          "output_type": "stream",
          "text": [
            "We're running Colab\n",
            "Colab: mounting Google drive on  /content/gdrive\n",
            "Mounted at /content/gdrive\n",
            "\n",
            "Colab: making sure  /content/gdrive/My Drive/ML_for_fun/Stock prediction/Data  exists.\n",
            "\n",
            "Colab: Changing directory to  /content/gdrive/My Drive/ML_for_fun/Stock prediction/Data\n",
            "/content/gdrive/My Drive/ML_for_fun/Stock prediction/Data\n"
          ],
          "name": "stdout"
        }
      ]
    },
    {
      "cell_type": "markdown",
      "metadata": {
        "id": "48ywr9OH8YFI"
      },
      "source": [
        "# Data preparation"
      ]
    },
    {
      "cell_type": "code",
      "metadata": {
        "id": "gcZA_86p-6eF"
      },
      "source": [
        "import numpy as np\n",
        "import pandas as pd\n",
        "import tensorflow as tf\n",
        "from tensorflow import keras\n",
        "import matplotlib.pyplot as plt\n"
      ],
      "execution_count": 2,
      "outputs": []
    },
    {
      "cell_type": "code",
      "metadata": {
        "id": "RHH7iep-_OQb"
      },
      "source": [
        "from keras.layers import Dense,Dropout,Input,Flatten,Concatenate,Conv1D,LSTM"
      ],
      "execution_count": 3,
      "outputs": []
    },
    {
      "cell_type": "code",
      "metadata": {
        "id": "agIr3TdR_nFN"
      },
      "source": [
        "aapl=pd.read_csv('./AAPL.csv')\n",
        "def prepare_dat(df):\n",
        "  df2=df.copy()\n",
        "  df2.set_index('Date',inplace=True)\n",
        "  df2.drop(['Open','High','Low','Close','Volume'],axis=1,inplace=True)\n",
        "  return df2\n",
        "aapl2=prepare_dat(aapl)\n",
        "def create_lags(df,column,num):\n",
        "  df2=df.copy()\n",
        "  for i in range(1,num):\n",
        "    df2[column+str(-i)]=df2[column].shift(i)\n",
        "  df2.dropna(inplace=True)\n",
        "  return df2 \n",
        "X=create_lags(aapl2,'Adj Close',6)"
      ],
      "execution_count": 4,
      "outputs": []
    },
    {
      "cell_type": "code",
      "metadata": {
        "id": "1pe4GG3EBt9V"
      },
      "source": [
        "X.dropna(inplace=True)\n",
        "y=X['Adj Close'].pct_change()\n",
        "y.dropna(inplace=True)\n",
        "X=X.drop('Adj Close',axis=1).pct_change()\n",
        "y_cl=(y.values>0).astype(int)\n",
        "y_reg=y.values"
      ],
      "execution_count": 5,
      "outputs": []
    },
    {
      "cell_type": "markdown",
      "metadata": {
        "id": "ysya2R3N8Uzw"
      },
      "source": [
        "# Classification"
      ]
    },
    {
      "cell_type": "code",
      "metadata": {
        "id": "nstY1t-VDJKO"
      },
      "source": [
        "Xtrain,Xval,Xtest,ytrain,yval,ytest=X.iloc[:3000,:],X.iloc[3000:3500,:],X.iloc[3500:,:],y_cl[:3000],y_cl[3000:3500],y_cl[3500:]"
      ],
      "execution_count": 6,
      "outputs": []
    },
    {
      "cell_type": "code",
      "metadata": {
        "id": "EXzKgwKKVFDp",
        "colab": {
          "base_uri": "https://localhost:8080/"
        },
        "outputId": "143e11c0-9cd5-44e8-ca5e-2f8d7efa690d"
      },
      "source": [
        "Xtrain.dropna(inplace=True)\n",
        "Xval.dropna(inplace=True)\n",
        "Xtest.dropna(inplace=True)"
      ],
      "execution_count": 7,
      "outputs": [
        {
          "output_type": "stream",
          "text": [
            "/usr/local/lib/python3.7/dist-packages/ipykernel_launcher.py:1: SettingWithCopyWarning: \n",
            "A value is trying to be set on a copy of a slice from a DataFrame\n",
            "\n",
            "See the caveats in the documentation: https://pandas.pydata.org/pandas-docs/stable/user_guide/indexing.html#returning-a-view-versus-a-copy\n",
            "  \"\"\"Entry point for launching an IPython kernel.\n",
            "/usr/local/lib/python3.7/dist-packages/ipykernel_launcher.py:2: SettingWithCopyWarning: \n",
            "A value is trying to be set on a copy of a slice from a DataFrame\n",
            "\n",
            "See the caveats in the documentation: https://pandas.pydata.org/pandas-docs/stable/user_guide/indexing.html#returning-a-view-versus-a-copy\n",
            "  \n",
            "/usr/local/lib/python3.7/dist-packages/ipykernel_launcher.py:3: SettingWithCopyWarning: \n",
            "A value is trying to be set on a copy of a slice from a DataFrame\n",
            "\n",
            "See the caveats in the documentation: https://pandas.pydata.org/pandas-docs/stable/user_guide/indexing.html#returning-a-view-versus-a-copy\n",
            "  This is separate from the ipykernel package so we can avoid doing imports until\n"
          ],
          "name": "stderr"
        }
      ]
    },
    {
      "cell_type": "code",
      "metadata": {
        "id": "mxqfjt0ISQzM"
      },
      "source": [
        "Xtrain,Xval,Xtest=Xtrain.values,Xval.values,Xtest.values"
      ],
      "execution_count": 8,
      "outputs": []
    },
    {
      "cell_type": "code",
      "metadata": {
        "id": "pUQoybeWVnsd"
      },
      "source": [
        "ytrain=ytrain[1:]"
      ],
      "execution_count": 9,
      "outputs": []
    },
    {
      "cell_type": "code",
      "metadata": {
        "id": "RrnuDJ5wW8xf"
      },
      "source": [
        "Xtest=Xtest[:-1]"
      ],
      "execution_count": 10,
      "outputs": []
    },
    {
      "cell_type": "code",
      "metadata": {
        "id": "xfAKj4gfRmLP"
      },
      "source": [
        "Xtrain,Xval,Xtest=Xtrain.reshape(Xtrain.shape[0],Xtrain.shape[1],1),Xval.reshape(Xval.shape[0],Xval.shape[1],1),Xtest.reshape(Xtest.shape[0],Xtest.shape[1],1)"
      ],
      "execution_count": 11,
      "outputs": []
    },
    {
      "cell_type": "code",
      "metadata": {
        "id": "viuGH-xM_4NK"
      },
      "source": [
        "simple_dense=keras.models.Sequential([Flatten(input_shape=[5,1]),\n",
        "                                      Dense(20,activation='relu'),\n",
        "                                      Dense(1, activation='sigmoid')\n",
        "])"
      ],
      "execution_count": 12,
      "outputs": []
    },
    {
      "cell_type": "code",
      "metadata": {
        "id": "jDwc4GtwCJe7"
      },
      "source": [
        "simple_dense.compile(loss='binary_crossentropy',optimizer='adam',metrics=['accuracy'])"
      ],
      "execution_count": 13,
      "outputs": []
    },
    {
      "cell_type": "code",
      "metadata": {
        "colab": {
          "base_uri": "https://localhost:8080/"
        },
        "id": "a4KQ8VTEC7kX",
        "outputId": "e751cc56-71eb-427b-922b-c8509a864eb8"
      },
      "source": [
        "history=simple_dense.fit(Xtrain,ytrain,epochs=20,validation_data=(Xval,yval))"
      ],
      "execution_count": 14,
      "outputs": [
        {
          "output_type": "stream",
          "text": [
            "Epoch 1/20\n",
            "94/94 [==============================] - 1s 3ms/step - loss: 0.6927 - accuracy: 0.5238 - val_loss: 0.6911 - val_accuracy: 0.5380\n",
            "Epoch 2/20\n",
            "94/94 [==============================] - 0s 2ms/step - loss: 0.6920 - accuracy: 0.5242 - val_loss: 0.6909 - val_accuracy: 0.5380\n",
            "Epoch 3/20\n",
            "94/94 [==============================] - 0s 2ms/step - loss: 0.6918 - accuracy: 0.5242 - val_loss: 0.6904 - val_accuracy: 0.5380\n",
            "Epoch 4/20\n",
            "94/94 [==============================] - 0s 2ms/step - loss: 0.6917 - accuracy: 0.5238 - val_loss: 0.6901 - val_accuracy: 0.5380\n",
            "Epoch 5/20\n",
            "94/94 [==============================] - 0s 2ms/step - loss: 0.6917 - accuracy: 0.5245 - val_loss: 0.6901 - val_accuracy: 0.5380\n",
            "Epoch 6/20\n",
            "94/94 [==============================] - 0s 2ms/step - loss: 0.6916 - accuracy: 0.5252 - val_loss: 0.6900 - val_accuracy: 0.5380\n",
            "Epoch 7/20\n",
            "94/94 [==============================] - 0s 2ms/step - loss: 0.6916 - accuracy: 0.5242 - val_loss: 0.6902 - val_accuracy: 0.5380\n",
            "Epoch 8/20\n",
            "94/94 [==============================] - 0s 2ms/step - loss: 0.6916 - accuracy: 0.5245 - val_loss: 0.6901 - val_accuracy: 0.5380\n",
            "Epoch 9/20\n",
            "94/94 [==============================] - 0s 2ms/step - loss: 0.6915 - accuracy: 0.5248 - val_loss: 0.6900 - val_accuracy: 0.5380\n",
            "Epoch 10/20\n",
            "94/94 [==============================] - 0s 2ms/step - loss: 0.6915 - accuracy: 0.5252 - val_loss: 0.6899 - val_accuracy: 0.5380\n",
            "Epoch 11/20\n",
            "94/94 [==============================] - 0s 2ms/step - loss: 0.6914 - accuracy: 0.5248 - val_loss: 0.6900 - val_accuracy: 0.5380\n",
            "Epoch 12/20\n",
            "94/94 [==============================] - 0s 2ms/step - loss: 0.6914 - accuracy: 0.5248 - val_loss: 0.6899 - val_accuracy: 0.5380\n",
            "Epoch 13/20\n",
            "94/94 [==============================] - 0s 2ms/step - loss: 0.6914 - accuracy: 0.5242 - val_loss: 0.6899 - val_accuracy: 0.5380\n",
            "Epoch 14/20\n",
            "94/94 [==============================] - 0s 2ms/step - loss: 0.6915 - accuracy: 0.5255 - val_loss: 0.6900 - val_accuracy: 0.5400\n",
            "Epoch 15/20\n",
            "94/94 [==============================] - 0s 2ms/step - loss: 0.6914 - accuracy: 0.5268 - val_loss: 0.6900 - val_accuracy: 0.5400\n",
            "Epoch 16/20\n",
            "94/94 [==============================] - 0s 2ms/step - loss: 0.6913 - accuracy: 0.5242 - val_loss: 0.6899 - val_accuracy: 0.5400\n",
            "Epoch 17/20\n",
            "94/94 [==============================] - 0s 2ms/step - loss: 0.6912 - accuracy: 0.5288 - val_loss: 0.6896 - val_accuracy: 0.5380\n",
            "Epoch 18/20\n",
            "94/94 [==============================] - 0s 2ms/step - loss: 0.6913 - accuracy: 0.5275 - val_loss: 0.6897 - val_accuracy: 0.5400\n",
            "Epoch 19/20\n",
            "94/94 [==============================] - 0s 2ms/step - loss: 0.6912 - accuracy: 0.5255 - val_loss: 0.6896 - val_accuracy: 0.5380\n",
            "Epoch 20/20\n",
            "94/94 [==============================] - 0s 2ms/step - loss: 0.6913 - accuracy: 0.5292 - val_loss: 0.6896 - val_accuracy: 0.5400\n"
          ],
          "name": "stdout"
        }
      ]
    },
    {
      "cell_type": "code",
      "metadata": {
        "colab": {
          "base_uri": "https://localhost:8080/"
        },
        "id": "ViPSHClUUNHw",
        "outputId": "2c21267c-96d6-4639-bd39-a01bd5d26814"
      },
      "source": [
        "simple_dense.evaluate(Xtest,ytest)"
      ],
      "execution_count": 15,
      "outputs": [
        {
          "output_type": "stream",
          "text": [
            "20/20 [==============================] - 0s 1ms/step - loss: 0.6889 - accuracy: 0.5538\n"
          ],
          "name": "stdout"
        },
        {
          "output_type": "execute_result",
          "data": {
            "text/plain": [
              "[0.688881516456604, 0.5537974834442139]"
            ]
          },
          "metadata": {
            "tags": []
          },
          "execution_count": 15
        }
      ]
    },
    {
      "cell_type": "code",
      "metadata": {
        "id": "GViE1HZI9ZGM"
      },
      "source": [
        "simple_dense.predict_classes(Xtest)"
      ],
      "execution_count": null,
      "outputs": []
    },
    {
      "cell_type": "markdown",
      "metadata": {
        "id": "CDA538W9JYbS"
      },
      "source": [
        "Our network predicts different classes which is not a bad sign"
      ]
    },
    {
      "cell_type": "markdown",
      "metadata": {
        "id": "lJxozxd_JiM6"
      },
      "source": [
        "We next try slightly more complicated dense network which is nonsequential: all or part of the inputs are connected directly to the output layer. This should potentially allow the network to learn both deep paterns via deep path and simple rules via the short path."
      ]
    },
    {
      "cell_type": "code",
      "metadata": {
        "id": "qkN_PSvbD1ks"
      },
      "source": [
        "inp=Input(shape=Xtrain.shape[1:])\n",
        "h1=Dense(20, activation='relu')(inp)\n",
        "h2=Dense(20,activation='relu')(h1)\n",
        "concat=Concatenate()([inp,h2])\n",
        "out=Dense(1,activation='sigmoid')(concat)\n",
        "nonseq_model=keras.Model(inputs=[inp],outputs=[out])"
      ],
      "execution_count": 17,
      "outputs": []
    },
    {
      "cell_type": "code",
      "metadata": {
        "id": "bZ6RKVASFQ0p",
        "colab": {
          "base_uri": "https://localhost:8080/"
        },
        "outputId": "c2a86cda-8c40-49c6-987e-401f26969d36"
      },
      "source": [
        "nonseq_model.compile(loss='binary_crossentropy',optimizer='adam',metrics=['accuracy'])\n",
        "history_nonseq=nonseq_model.fit(Xtrain,ytrain,epochs=20,validation_data=(Xval,yval))"
      ],
      "execution_count": 18,
      "outputs": [
        {
          "output_type": "stream",
          "text": [
            "Epoch 1/20\n",
            "94/94 [==============================] - 1s 4ms/step - loss: 0.6925 - accuracy: 0.5222 - val_loss: 0.6910 - val_accuracy: 0.5380\n",
            "Epoch 2/20\n",
            "94/94 [==============================] - 0s 2ms/step - loss: 0.6921 - accuracy: 0.5252 - val_loss: 0.6906 - val_accuracy: 0.5380\n",
            "Epoch 3/20\n",
            "94/94 [==============================] - 0s 2ms/step - loss: 0.6922 - accuracy: 0.5252 - val_loss: 0.6906 - val_accuracy: 0.5380\n",
            "Epoch 4/20\n",
            "94/94 [==============================] - 0s 2ms/step - loss: 0.6921 - accuracy: 0.5252 - val_loss: 0.6907 - val_accuracy: 0.5380\n",
            "Epoch 5/20\n",
            "94/94 [==============================] - 0s 2ms/step - loss: 0.6920 - accuracy: 0.5252 - val_loss: 0.6906 - val_accuracy: 0.5380\n",
            "Epoch 6/20\n",
            "94/94 [==============================] - 0s 2ms/step - loss: 0.6920 - accuracy: 0.5252 - val_loss: 0.6905 - val_accuracy: 0.5380\n",
            "Epoch 7/20\n",
            "94/94 [==============================] - 0s 2ms/step - loss: 0.6920 - accuracy: 0.5252 - val_loss: 0.6905 - val_accuracy: 0.5380\n",
            "Epoch 8/20\n",
            "94/94 [==============================] - 0s 2ms/step - loss: 0.6921 - accuracy: 0.5252 - val_loss: 0.6906 - val_accuracy: 0.5380\n",
            "Epoch 9/20\n",
            "94/94 [==============================] - 0s 2ms/step - loss: 0.6920 - accuracy: 0.5252 - val_loss: 0.6905 - val_accuracy: 0.5380\n",
            "Epoch 10/20\n",
            "94/94 [==============================] - 0s 2ms/step - loss: 0.6920 - accuracy: 0.5252 - val_loss: 0.6904 - val_accuracy: 0.5380\n",
            "Epoch 11/20\n",
            "94/94 [==============================] - 0s 2ms/step - loss: 0.6919 - accuracy: 0.5252 - val_loss: 0.6907 - val_accuracy: 0.5380\n",
            "Epoch 12/20\n",
            "94/94 [==============================] - 0s 2ms/step - loss: 0.6920 - accuracy: 0.5252 - val_loss: 0.6905 - val_accuracy: 0.5380\n",
            "Epoch 13/20\n",
            "94/94 [==============================] - 0s 2ms/step - loss: 0.6919 - accuracy: 0.5252 - val_loss: 0.6906 - val_accuracy: 0.5380\n",
            "Epoch 14/20\n",
            "94/94 [==============================] - 0s 2ms/step - loss: 0.6920 - accuracy: 0.5252 - val_loss: 0.6910 - val_accuracy: 0.5380\n",
            "Epoch 15/20\n",
            "94/94 [==============================] - 0s 2ms/step - loss: 0.6921 - accuracy: 0.5254 - val_loss: 0.6904 - val_accuracy: 0.5380\n",
            "Epoch 16/20\n",
            "94/94 [==============================] - 0s 2ms/step - loss: 0.6921 - accuracy: 0.5252 - val_loss: 0.6904 - val_accuracy: 0.5380\n",
            "Epoch 17/20\n",
            "94/94 [==============================] - 0s 2ms/step - loss: 0.6921 - accuracy: 0.5252 - val_loss: 0.6905 - val_accuracy: 0.5380\n",
            "Epoch 18/20\n",
            "94/94 [==============================] - 0s 2ms/step - loss: 0.6920 - accuracy: 0.5252 - val_loss: 0.6906 - val_accuracy: 0.5380\n",
            "Epoch 19/20\n",
            "94/94 [==============================] - 0s 2ms/step - loss: 0.6920 - accuracy: 0.5252 - val_loss: 0.6904 - val_accuracy: 0.5380\n",
            "Epoch 20/20\n",
            "94/94 [==============================] - 0s 2ms/step - loss: 0.6920 - accuracy: 0.5252 - val_loss: 0.6906 - val_accuracy: 0.5380\n"
          ],
          "name": "stdout"
        }
      ]
    },
    {
      "cell_type": "markdown",
      "metadata": {
        "id": "vzFY0e6iKsdi"
      },
      "source": [
        "We see the same, nonchanging validation accuracy."
      ]
    },
    {
      "cell_type": "code",
      "metadata": {
        "colab": {
          "base_uri": "https://localhost:8080/"
        },
        "id": "Q-8eWcIYFwsC",
        "outputId": "41e363ca-deb6-41f9-901e-183a00acaeba"
      },
      "source": [
        "nonseq_model.evaluate(Xtest,ytest)"
      ],
      "execution_count": 19,
      "outputs": [
        {
          "output_type": "stream",
          "text": [
            "20/20 [==============================] - 0s 1ms/step - loss: 0.6900 - accuracy: 0.5443\n"
          ],
          "name": "stdout"
        },
        {
          "output_type": "execute_result",
          "data": {
            "text/plain": [
              "[0.6899899244308472, 0.5443037748336792]"
            ]
          },
          "metadata": {
            "tags": []
          },
          "execution_count": 19
        }
      ]
    },
    {
      "cell_type": "markdown",
      "metadata": {
        "id": "LXn-c6pvK1Pt"
      },
      "source": [
        "And the performance on the test set is the same, even slightly worse than before"
      ]
    },
    {
      "cell_type": "markdown",
      "metadata": {
        "id": "accl-SuvLAk5"
      },
      "source": [
        "Then let us look on the performance of the recurrent neural network (RNN) which is designed specifically for time series modelling"
      ]
    },
    {
      "cell_type": "code",
      "metadata": {
        "id": "LRm4VQenMPO_"
      },
      "source": [
        "lstm_base=keras.models.Sequential([\n",
        "                                      LSTM(20,input_shape=[5,1],activation='relu'),\n",
        "                                      Dense(1, activation='sigmoid')\n",
        "])"
      ],
      "execution_count": 20,
      "outputs": []
    },
    {
      "cell_type": "code",
      "metadata": {
        "id": "a9TLIMUfMaMf",
        "colab": {
          "base_uri": "https://localhost:8080/"
        },
        "outputId": "6f2b6c38-97f5-4227-eb5e-51203315d896"
      },
      "source": [
        "lstm_base.compile(loss='binary_crossentropy',optimizer='adam',metrics=['accuracy'])\n",
        "history_lstm1=lstm_base.fit(Xtrain,ytrain,epochs=20,validation_data=(Xval,yval))"
      ],
      "execution_count": 21,
      "outputs": [
        {
          "output_type": "stream",
          "text": [
            "Epoch 1/20\n",
            "94/94 [==============================] - 2s 8ms/step - loss: 0.6927 - accuracy: 0.5235 - val_loss: 0.6916 - val_accuracy: 0.5380\n",
            "Epoch 2/20\n",
            "94/94 [==============================] - 0s 5ms/step - loss: 0.6921 - accuracy: 0.5252 - val_loss: 0.6909 - val_accuracy: 0.5380\n",
            "Epoch 3/20\n",
            "94/94 [==============================] - 0s 5ms/step - loss: 0.6919 - accuracy: 0.5252 - val_loss: 0.6906 - val_accuracy: 0.5380\n",
            "Epoch 4/20\n",
            "94/94 [==============================] - 0s 4ms/step - loss: 0.6920 - accuracy: 0.5252 - val_loss: 0.6906 - val_accuracy: 0.5380\n",
            "Epoch 5/20\n",
            "94/94 [==============================] - 0s 4ms/step - loss: 0.6920 - accuracy: 0.5252 - val_loss: 0.6906 - val_accuracy: 0.5380\n",
            "Epoch 6/20\n",
            "94/94 [==============================] - 0s 4ms/step - loss: 0.6920 - accuracy: 0.5252 - val_loss: 0.6907 - val_accuracy: 0.5380\n",
            "Epoch 7/20\n",
            "94/94 [==============================] - 0s 5ms/step - loss: 0.6920 - accuracy: 0.5252 - val_loss: 0.6907 - val_accuracy: 0.5380\n",
            "Epoch 8/20\n",
            "94/94 [==============================] - 0s 4ms/step - loss: 0.6919 - accuracy: 0.5252 - val_loss: 0.6917 - val_accuracy: 0.5380\n",
            "Epoch 9/20\n",
            "94/94 [==============================] - 0s 4ms/step - loss: 0.6922 - accuracy: 0.5252 - val_loss: 0.6907 - val_accuracy: 0.5380\n",
            "Epoch 10/20\n",
            "94/94 [==============================] - 0s 4ms/step - loss: 0.6921 - accuracy: 0.5252 - val_loss: 0.6908 - val_accuracy: 0.5380\n",
            "Epoch 11/20\n",
            "94/94 [==============================] - 0s 4ms/step - loss: 0.6920 - accuracy: 0.5252 - val_loss: 0.6905 - val_accuracy: 0.5380\n",
            "Epoch 12/20\n",
            "94/94 [==============================] - 1s 6ms/step - loss: 0.6920 - accuracy: 0.5252 - val_loss: 0.6906 - val_accuracy: 0.5380\n",
            "Epoch 13/20\n",
            "94/94 [==============================] - 0s 5ms/step - loss: 0.6920 - accuracy: 0.5252 - val_loss: 0.6906 - val_accuracy: 0.5380\n",
            "Epoch 14/20\n",
            "94/94 [==============================] - 0s 5ms/step - loss: 0.6920 - accuracy: 0.5252 - val_loss: 0.6906 - val_accuracy: 0.5380\n",
            "Epoch 15/20\n",
            "94/94 [==============================] - 0s 4ms/step - loss: 0.6920 - accuracy: 0.5252 - val_loss: 0.6906 - val_accuracy: 0.5380\n",
            "Epoch 16/20\n",
            "94/94 [==============================] - 0s 4ms/step - loss: 0.6920 - accuracy: 0.5252 - val_loss: 0.6905 - val_accuracy: 0.5380\n",
            "Epoch 17/20\n",
            "94/94 [==============================] - 0s 4ms/step - loss: 0.6920 - accuracy: 0.5252 - val_loss: 0.6906 - val_accuracy: 0.5380\n",
            "Epoch 18/20\n",
            "94/94 [==============================] - 0s 4ms/step - loss: 0.6919 - accuracy: 0.5252 - val_loss: 0.6905 - val_accuracy: 0.5380\n",
            "Epoch 19/20\n",
            "94/94 [==============================] - 0s 5ms/step - loss: 0.6919 - accuracy: 0.5252 - val_loss: 0.6905 - val_accuracy: 0.5380\n",
            "Epoch 20/20\n",
            "94/94 [==============================] - 0s 5ms/step - loss: 0.6919 - accuracy: 0.5252 - val_loss: 0.6904 - val_accuracy: 0.5380\n"
          ],
          "name": "stdout"
        }
      ]
    },
    {
      "cell_type": "code",
      "metadata": {
        "colab": {
          "base_uri": "https://localhost:8080/"
        },
        "id": "PKKMDggVMvIe",
        "outputId": "e894d2a7-4796-47dc-f3af-b28c65e136bf"
      },
      "source": [
        "lstm_base.evaluate(Xtest,ytest)"
      ],
      "execution_count": 22,
      "outputs": [
        {
          "output_type": "stream",
          "text": [
            "20/20 [==============================] - 0s 2ms/step - loss: 0.6897 - accuracy: 0.5443\n"
          ],
          "name": "stdout"
        },
        {
          "output_type": "execute_result",
          "data": {
            "text/plain": [
              "[0.6897414922714233, 0.5443037748336792]"
            ]
          },
          "metadata": {
            "tags": []
          },
          "execution_count": 22
        }
      ]
    },
    {
      "cell_type": "markdown",
      "metadata": {
        "id": "GS2coVkURDqo"
      },
      "source": [
        "Well, result seems slightly worse than in the case of the simple Dense network, so LSTM doesn't add any value\n",
        "Let's see how more complicated network performs. We throw more LSTM layers and a Dropout layer to prevent overfitting."
      ]
    },
    {
      "cell_type": "code",
      "metadata": {
        "id": "ofzr78tHRhO7"
      },
      "source": [
        "lstm2=keras.models.Sequential([\n",
        "                                      LSTM(20,input_shape=[5,1],activation='relu',return_sequences=True),\n",
        "                                      LSTM(20,return_sequences=True),\n",
        "                                      Dropout(0.5),\n",
        "                                      LSTM(20),\n",
        "                                      Dense(1, activation='sigmoid')\n",
        "])"
      ],
      "execution_count": 23,
      "outputs": []
    },
    {
      "cell_type": "code",
      "metadata": {
        "id": "DaKT8cWcRwXa",
        "colab": {
          "base_uri": "https://localhost:8080/"
        },
        "outputId": "be6d4a14-a04a-4f4b-c7d9-f28b6ad75b12"
      },
      "source": [
        "lstm2.compile(loss='binary_crossentropy',optimizer='adam',metrics=['accuracy'])\n",
        "history_lstm2=lstm2.fit(Xtrain,ytrain,epochs=20,validation_data=(Xval,yval))"
      ],
      "execution_count": 24,
      "outputs": [
        {
          "output_type": "stream",
          "text": [
            "Epoch 1/20\n",
            "94/94 [==============================] - 7s 23ms/step - loss: 0.6927 - accuracy: 0.5232 - val_loss: 0.6909 - val_accuracy: 0.5380\n",
            "Epoch 2/20\n",
            "94/94 [==============================] - 1s 11ms/step - loss: 0.6921 - accuracy: 0.5252 - val_loss: 0.6909 - val_accuracy: 0.5380\n",
            "Epoch 3/20\n",
            "94/94 [==============================] - 1s 10ms/step - loss: 0.6921 - accuracy: 0.5252 - val_loss: 0.6908 - val_accuracy: 0.5380\n",
            "Epoch 4/20\n",
            "94/94 [==============================] - 1s 11ms/step - loss: 0.6922 - accuracy: 0.5252 - val_loss: 0.6904 - val_accuracy: 0.5380\n",
            "Epoch 5/20\n",
            "94/94 [==============================] - 1s 10ms/step - loss: 0.6920 - accuracy: 0.5252 - val_loss: 0.6910 - val_accuracy: 0.5380\n",
            "Epoch 6/20\n",
            "94/94 [==============================] - 1s 10ms/step - loss: 0.6920 - accuracy: 0.5252 - val_loss: 0.6908 - val_accuracy: 0.5380\n",
            "Epoch 7/20\n",
            "94/94 [==============================] - 1s 9ms/step - loss: 0.6920 - accuracy: 0.5252 - val_loss: 0.6905 - val_accuracy: 0.5380\n",
            "Epoch 8/20\n",
            "94/94 [==============================] - 1s 9ms/step - loss: 0.6922 - accuracy: 0.5252 - val_loss: 0.6909 - val_accuracy: 0.5380\n",
            "Epoch 9/20\n",
            "94/94 [==============================] - 1s 10ms/step - loss: 0.6922 - accuracy: 0.5252 - val_loss: 0.6907 - val_accuracy: 0.5380\n",
            "Epoch 10/20\n",
            "94/94 [==============================] - 1s 10ms/step - loss: 0.6921 - accuracy: 0.5252 - val_loss: 0.6907 - val_accuracy: 0.5380\n",
            "Epoch 11/20\n",
            "94/94 [==============================] - 1s 10ms/step - loss: 0.6920 - accuracy: 0.5252 - val_loss: 0.6905 - val_accuracy: 0.5380\n",
            "Epoch 12/20\n",
            "94/94 [==============================] - 1s 12ms/step - loss: 0.6921 - accuracy: 0.5252 - val_loss: 0.6907 - val_accuracy: 0.5380\n",
            "Epoch 13/20\n",
            "94/94 [==============================] - 1s 11ms/step - loss: 0.6920 - accuracy: 0.5252 - val_loss: 0.6905 - val_accuracy: 0.5380\n",
            "Epoch 14/20\n",
            "94/94 [==============================] - 1s 10ms/step - loss: 0.6921 - accuracy: 0.5252 - val_loss: 0.6908 - val_accuracy: 0.5380\n",
            "Epoch 15/20\n",
            "94/94 [==============================] - 1s 10ms/step - loss: 0.6919 - accuracy: 0.5252 - val_loss: 0.6907 - val_accuracy: 0.5380\n",
            "Epoch 16/20\n",
            "94/94 [==============================] - 1s 9ms/step - loss: 0.6920 - accuracy: 0.5252 - val_loss: 0.6906 - val_accuracy: 0.5380\n",
            "Epoch 17/20\n",
            "94/94 [==============================] - 1s 10ms/step - loss: 0.6921 - accuracy: 0.5252 - val_loss: 0.6905 - val_accuracy: 0.5380\n",
            "Epoch 18/20\n",
            "94/94 [==============================] - 1s 11ms/step - loss: 0.6921 - accuracy: 0.5252 - val_loss: 0.6908 - val_accuracy: 0.5380\n",
            "Epoch 19/20\n",
            "94/94 [==============================] - 1s 11ms/step - loss: 0.6920 - accuracy: 0.5252 - val_loss: 0.6905 - val_accuracy: 0.5380\n",
            "Epoch 20/20\n",
            "94/94 [==============================] - 1s 11ms/step - loss: 0.6921 - accuracy: 0.5252 - val_loss: 0.6909 - val_accuracy: 0.5380\n"
          ],
          "name": "stdout"
        }
      ]
    },
    {
      "cell_type": "code",
      "metadata": {
        "colab": {
          "base_uri": "https://localhost:8080/"
        },
        "id": "WgG8DoYjTBuY",
        "outputId": "77730c9f-585e-4bd1-82f0-26615398121b"
      },
      "source": [
        "lstm2.evaluate(Xtest,ytest)"
      ],
      "execution_count": 25,
      "outputs": [
        {
          "output_type": "stream",
          "text": [
            "20/20 [==============================] - 0s 3ms/step - loss: 0.6904 - accuracy: 0.5443\n"
          ],
          "name": "stdout"
        },
        {
          "output_type": "execute_result",
          "data": {
            "text/plain": [
              "[0.6904165744781494, 0.5443037748336792]"
            ]
          },
          "metadata": {
            "tags": []
          },
          "execution_count": 25
        }
      ]
    },
    {
      "cell_type": "markdown",
      "metadata": {
        "id": "BdMUor-TSnqP"
      },
      "source": [
        "Training now takes much more time, but results are the same. So no matter how we complicate the model, it can't learn more based on given features."
      ]
    },
    {
      "cell_type": "markdown",
      "metadata": {
        "id": "0i5NcV438NXb"
      },
      "source": [
        "# Regression"
      ]
    },
    {
      "cell_type": "markdown",
      "metadata": {
        "id": "VG2Fh6gyTccY"
      },
      "source": [
        "Let us try regression with neural networks now"
      ]
    },
    {
      "cell_type": "code",
      "metadata": {
        "id": "262p_D8UUDYu"
      },
      "source": [
        "ytrain,yval,ytest=y_reg[:3000],y_reg[3000:3500],y_reg[3500:]\n",
        "ytrain=ytrain[1:]"
      ],
      "execution_count": 26,
      "outputs": []
    },
    {
      "cell_type": "code",
      "metadata": {
        "id": "bbzMvdb8TbIT"
      },
      "source": [
        "simple_dense=keras.models.Sequential([Flatten(input_shape=[5,1]),\n",
        "                                      Dense(20,activation='relu'),\n",
        "                                      Dense(1)\n",
        "])\n",
        "simple_dense.compile(loss='mean_absolute_error',optimizer='adam')\n",
        "lstm_base=keras.models.Sequential([\n",
        "                                      LSTM(20,input_shape=[5,1],activation='relu'),\n",
        "                                      Dense(1)\n",
        "])\n",
        "lstm_base.compile(loss='mean_absolute_error',optimizer='adam')\n",
        "lstm2=keras.models.Sequential([\n",
        "                                      LSTM(20,input_shape=[5,1],activation='relu',return_sequences=True),\n",
        "                                      LSTM(20,return_sequences=True),\n",
        "                                      Dropout(0.5),\n",
        "                                      LSTM(20),\n",
        "                                      Dense(1)\n",
        "])\n",
        "lstm2.compile(loss='mean_absolute_error',optimizer='adam')"
      ],
      "execution_count": 27,
      "outputs": []
    },
    {
      "cell_type": "code",
      "metadata": {
        "colab": {
          "base_uri": "https://localhost:8080/"
        },
        "id": "-WGNMD1tSCSC",
        "outputId": "0c9cc669-8e4b-4374-8b18-a1804ecb57ff"
      },
      "source": [
        "history=simple_dense.fit(Xtrain,ytrain,epochs=20,validation_data=(Xval,yval))"
      ],
      "execution_count": 28,
      "outputs": [
        {
          "output_type": "stream",
          "text": [
            "Epoch 1/20\n",
            "94/94 [==============================] - 1s 3ms/step - loss: 0.0160 - val_loss: 0.0100\n",
            "Epoch 2/20\n",
            "94/94 [==============================] - 0s 2ms/step - loss: 0.0155 - val_loss: 0.0099\n",
            "Epoch 3/20\n",
            "94/94 [==============================] - 0s 2ms/step - loss: 0.0153 - val_loss: 0.0099\n",
            "Epoch 4/20\n",
            "94/94 [==============================] - 0s 2ms/step - loss: 0.0153 - val_loss: 0.0100\n",
            "Epoch 5/20\n",
            "94/94 [==============================] - 0s 2ms/step - loss: 0.0152 - val_loss: 0.0101\n",
            "Epoch 6/20\n",
            "94/94 [==============================] - 0s 2ms/step - loss: 0.0153 - val_loss: 0.0099\n",
            "Epoch 7/20\n",
            "94/94 [==============================] - 0s 2ms/step - loss: 0.0152 - val_loss: 0.0099\n",
            "Epoch 8/20\n",
            "94/94 [==============================] - 0s 2ms/step - loss: 0.0151 - val_loss: 0.0099\n",
            "Epoch 9/20\n",
            "94/94 [==============================] - 0s 2ms/step - loss: 0.0152 - val_loss: 0.0101\n",
            "Epoch 10/20\n",
            "94/94 [==============================] - 0s 2ms/step - loss: 0.0151 - val_loss: 0.0099\n",
            "Epoch 11/20\n",
            "94/94 [==============================] - 0s 2ms/step - loss: 0.0151 - val_loss: 0.0099\n",
            "Epoch 12/20\n",
            "94/94 [==============================] - 0s 2ms/step - loss: 0.0151 - val_loss: 0.0099\n",
            "Epoch 13/20\n",
            "94/94 [==============================] - 0s 2ms/step - loss: 0.0151 - val_loss: 0.0099\n",
            "Epoch 14/20\n",
            "94/94 [==============================] - 0s 2ms/step - loss: 0.0151 - val_loss: 0.0099\n",
            "Epoch 15/20\n",
            "94/94 [==============================] - 0s 2ms/step - loss: 0.0151 - val_loss: 0.0099\n",
            "Epoch 16/20\n",
            "94/94 [==============================] - 0s 2ms/step - loss: 0.0151 - val_loss: 0.0099\n",
            "Epoch 17/20\n",
            "94/94 [==============================] - 0s 2ms/step - loss: 0.0151 - val_loss: 0.0101\n",
            "Epoch 18/20\n",
            "94/94 [==============================] - 0s 2ms/step - loss: 0.0151 - val_loss: 0.0099\n",
            "Epoch 19/20\n",
            "94/94 [==============================] - 0s 1ms/step - loss: 0.0151 - val_loss: 0.0099\n",
            "Epoch 20/20\n",
            "94/94 [==============================] - 0s 2ms/step - loss: 0.0151 - val_loss: 0.0099\n"
          ],
          "name": "stdout"
        }
      ]
    },
    {
      "cell_type": "code",
      "metadata": {
        "colab": {
          "base_uri": "https://localhost:8080/"
        },
        "id": "sBngE4VWV2oD",
        "outputId": "ac2ffcea-8284-4610-8ba7-eb1720179979"
      },
      "source": [
        "history2=lstm_base.fit(Xtrain,ytrain,epochs=20,validation_data=(Xval,yval))"
      ],
      "execution_count": 29,
      "outputs": [
        {
          "output_type": "stream",
          "text": [
            "Epoch 1/20\n",
            "94/94 [==============================] - 2s 7ms/step - loss: 0.0153 - val_loss: 0.0099\n",
            "Epoch 2/20\n",
            "94/94 [==============================] - 0s 4ms/step - loss: 0.0152 - val_loss: 0.0099\n",
            "Epoch 3/20\n",
            "94/94 [==============================] - 0s 4ms/step - loss: 0.0152 - val_loss: 0.0100\n",
            "Epoch 4/20\n",
            "94/94 [==============================] - 0s 5ms/step - loss: 0.0152 - val_loss: 0.0099\n",
            "Epoch 5/20\n",
            "94/94 [==============================] - 0s 4ms/step - loss: 0.0152 - val_loss: 0.0099\n",
            "Epoch 6/20\n",
            "94/94 [==============================] - 0s 4ms/step - loss: 0.0152 - val_loss: 0.0099\n",
            "Epoch 7/20\n",
            "94/94 [==============================] - 0s 4ms/step - loss: 0.0152 - val_loss: 0.0099\n",
            "Epoch 8/20\n",
            "94/94 [==============================] - 0s 4ms/step - loss: 0.0152 - val_loss: 0.0099\n",
            "Epoch 9/20\n",
            "94/94 [==============================] - 0s 4ms/step - loss: 0.0152 - val_loss: 0.0099\n",
            "Epoch 10/20\n",
            "94/94 [==============================] - 0s 4ms/step - loss: 0.0152 - val_loss: 0.0100\n",
            "Epoch 11/20\n",
            "94/94 [==============================] - 0s 4ms/step - loss: 0.0152 - val_loss: 0.0099\n",
            "Epoch 12/20\n",
            "94/94 [==============================] - 0s 4ms/step - loss: 0.0152 - val_loss: 0.0099\n",
            "Epoch 13/20\n",
            "94/94 [==============================] - 0s 4ms/step - loss: 0.0152 - val_loss: 0.0099\n",
            "Epoch 14/20\n",
            "94/94 [==============================] - 0s 4ms/step - loss: 0.0152 - val_loss: 0.0099\n",
            "Epoch 15/20\n",
            "94/94 [==============================] - 0s 4ms/step - loss: 0.0152 - val_loss: 0.0100\n",
            "Epoch 16/20\n",
            "94/94 [==============================] - 0s 4ms/step - loss: 0.0152 - val_loss: 0.0101\n",
            "Epoch 17/20\n",
            "94/94 [==============================] - 0s 4ms/step - loss: 0.0152 - val_loss: 0.0099\n",
            "Epoch 18/20\n",
            "94/94 [==============================] - 0s 4ms/step - loss: 0.0152 - val_loss: 0.0099\n",
            "Epoch 19/20\n",
            "94/94 [==============================] - 0s 4ms/step - loss: 0.0152 - val_loss: 0.0100\n",
            "Epoch 20/20\n",
            "94/94 [==============================] - 0s 3ms/step - loss: 0.0152 - val_loss: 0.0100\n"
          ],
          "name": "stdout"
        }
      ]
    },
    {
      "cell_type": "code",
      "metadata": {
        "colab": {
          "base_uri": "https://localhost:8080/"
        },
        "id": "Yv0e7ODkWTcu",
        "outputId": "8f25c0f8-b38e-440e-e839-16141ef8c139"
      },
      "source": [
        "history3=lstm2.fit(Xtrain,ytrain,epochs=20,validation_data=(Xval,yval))"
      ],
      "execution_count": 30,
      "outputs": [
        {
          "output_type": "stream",
          "text": [
            "Epoch 1/20\n",
            "94/94 [==============================] - 7s 22ms/step - loss: 0.0153 - val_loss: 0.0099\n",
            "Epoch 2/20\n",
            "94/94 [==============================] - 1s 9ms/step - loss: 0.0152 - val_loss: 0.0099\n",
            "Epoch 3/20\n",
            "94/94 [==============================] - 1s 9ms/step - loss: 0.0152 - val_loss: 0.0104\n",
            "Epoch 4/20\n",
            "94/94 [==============================] - 1s 10ms/step - loss: 0.0153 - val_loss: 0.0099\n",
            "Epoch 5/20\n",
            "94/94 [==============================] - 1s 10ms/step - loss: 0.0152 - val_loss: 0.0099\n",
            "Epoch 6/20\n",
            "94/94 [==============================] - 1s 11ms/step - loss: 0.0152 - val_loss: 0.0099\n",
            "Epoch 7/20\n",
            "94/94 [==============================] - 1s 9ms/step - loss: 0.0152 - val_loss: 0.0101\n",
            "Epoch 8/20\n",
            "94/94 [==============================] - 1s 10ms/step - loss: 0.0152 - val_loss: 0.0099\n",
            "Epoch 9/20\n",
            "94/94 [==============================] - 1s 10ms/step - loss: 0.0152 - val_loss: 0.0100\n",
            "Epoch 10/20\n",
            "94/94 [==============================] - 1s 11ms/step - loss: 0.0152 - val_loss: 0.0099\n",
            "Epoch 11/20\n",
            "94/94 [==============================] - 1s 11ms/step - loss: 0.0152 - val_loss: 0.0102\n",
            "Epoch 12/20\n",
            "94/94 [==============================] - 1s 12ms/step - loss: 0.0152 - val_loss: 0.0100\n",
            "Epoch 13/20\n",
            "94/94 [==============================] - 1s 10ms/step - loss: 0.0152 - val_loss: 0.0101\n",
            "Epoch 14/20\n",
            "94/94 [==============================] - 1s 10ms/step - loss: 0.0152 - val_loss: 0.0101\n",
            "Epoch 15/20\n",
            "94/94 [==============================] - 1s 10ms/step - loss: 0.0152 - val_loss: 0.0101\n",
            "Epoch 16/20\n",
            "94/94 [==============================] - 1s 11ms/step - loss: 0.0152 - val_loss: 0.0099\n",
            "Epoch 17/20\n",
            "94/94 [==============================] - 1s 11ms/step - loss: 0.0152 - val_loss: 0.0099\n",
            "Epoch 18/20\n",
            "94/94 [==============================] - 1s 11ms/step - loss: 0.0152 - val_loss: 0.0099\n",
            "Epoch 19/20\n",
            "94/94 [==============================] - 1s 12ms/step - loss: 0.0152 - val_loss: 0.0100\n",
            "Epoch 20/20\n",
            "94/94 [==============================] - 1s 10ms/step - loss: 0.0152 - val_loss: 0.0099\n"
          ],
          "name": "stdout"
        }
      ]
    },
    {
      "cell_type": "markdown",
      "metadata": {
        "id": "oBpHzcsXWrJi"
      },
      "source": [
        "Well, on validation sets all models perform relatively the same"
      ]
    },
    {
      "cell_type": "code",
      "metadata": {
        "colab": {
          "base_uri": "https://localhost:8080/"
        },
        "id": "0QgXHGmAWc9V",
        "outputId": "f692a2bd-b9d4-4f78-8e14-9a85cd767cda"
      },
      "source": [
        "print('Base dense test performance: ', simple_dense.evaluate(Xtest,ytest))\n",
        "print('Base RNN test performance: ', lstm_base.evaluate(Xtest,ytest))\n",
        "print('Deep RNN test performance: ', lstm2.evaluate(Xtest,ytest))"
      ],
      "execution_count": 31,
      "outputs": [
        {
          "output_type": "stream",
          "text": [
            "20/20 [==============================] - 0s 1ms/step - loss: 0.0157\n",
            "Base dense test performance:  0.015743250027298927\n",
            "20/20 [==============================] - 0s 2ms/step - loss: 0.0159\n",
            "Base RNN test performance:  0.015859507024288177\n",
            "20/20 [==============================] - 0s 4ms/step - loss: 0.0158\n",
            "Deep RNN test performance:  0.01577628217637539\n"
          ],
          "name": "stdout"
        }
      ]
    },
    {
      "cell_type": "code",
      "metadata": {
        "colab": {
          "base_uri": "https://localhost:8080/"
        },
        "id": "zUC_7ljZuZcN",
        "outputId": "b4822735-c6b6-46cc-a904-530d51c78c07"
      },
      "source": [
        "ytest.shape"
      ],
      "execution_count": 39,
      "outputs": [
        {
          "output_type": "execute_result",
          "data": {
            "text/plain": [
              "(632,)"
            ]
          },
          "metadata": {
            "tags": []
          },
          "execution_count": 39
        }
      ]
    },
    {
      "cell_type": "markdown",
      "metadata": {
        "id": "ilcfAfsqXrQL"
      },
      "source": [
        "On the test set our simple dense network performed the best in terms of MAE"
      ]
    },
    {
      "cell_type": "code",
      "metadata": {
        "colab": {
          "base_uri": "https://localhost:8080/",
          "height": 282
        },
        "id": "wcVkYxEMXjXZ",
        "outputId": "74d6b702-f4e5-4d6b-eea8-8215148130a1"
      },
      "source": [
        "pred1=simple_dense.predict(Xtest)\n",
        "pred2=lstm_base.predict(Xtest)\n",
        "pred3=lstm2.predict(Xtest)\n",
        "plt.plot(ytest)\n",
        "plt.plot(pred1,color='red')\n",
        "plt.plot(pred2,color='green')\n",
        "plt.plot(pred3,color='purple')\n",
        "plt.legend(['Actual','Simple Dense','Base LSTM','Deep LSTM'])"
      ],
      "execution_count": 32,
      "outputs": [
        {
          "output_type": "execute_result",
          "data": {
            "text/plain": [
              "<matplotlib.legend.Legend at 0x7fc818dfa3d0>"
            ]
          },
          "metadata": {
            "tags": []
          },
          "execution_count": 32
        },
        {
          "output_type": "display_data",
          "data": {
            "image/png": "[encoded data removed]",
            "text/plain": [
              "<Figure size 432x288 with 1 Axes>"
            ]
          },
          "metadata": {
            "tags": [],
            "needs_background": "light"
          }
        }
      ]
    },
    {
      "cell_type": "markdown",
      "metadata": {
        "id": "Ln8a-K454ADN"
      },
      "source": [
        "Based on this picture, simple dense network captures the magnitude of the variability in the returns better than both RNN's. It , however, almost always predicts the return to be negative which is of course not true in reality."
      ]
    },
    {
      "cell_type": "markdown",
      "metadata": {
        "id": "KohtOlKsYCKt"
      },
      "source": [
        "We next compute the prices from the predicted returns"
      ]
    },
    {
      "cell_type": "code",
      "metadata": {
        "id": "O3YxnnuFa8rd"
      },
      "source": [
        "start_test=aapl2.loc['2018-12-04'].values\n",
        "predicted_price_simpledense=np.empty(633)\n",
        "predicted_price_simplernn=np.empty(633)\n",
        "predicted_price_deeprnn=np.empty(633)\n",
        "predicted_price_simpledense[0]=start_test\n",
        "predicted_price_simplernn[0]=start_test\n",
        "predicted_price_deeprnn[0]=start_test"
      ],
      "execution_count": 33,
      "outputs": []
    },
    {
      "cell_type": "code",
      "metadata": {
        "colab": {
          "base_uri": "https://localhost:8080/"
        },
        "id": "vZkIw50NtvxZ",
        "outputId": "cb7bb062-fbd1-4cac-b8f1-36832d4b3cf9"
      },
      "source": [
        "pred1[631]"
      ],
      "execution_count": 37,
      "outputs": [
        {
          "output_type": "execute_result",
          "data": {
            "text/plain": [
              "array([0.00193755], dtype=float32)"
            ]
          },
          "metadata": {
            "tags": []
          },
          "execution_count": 37
        }
      ]
    },
    {
      "cell_type": "code",
      "metadata": {
        "id": "CwXaBrCdbS1f"
      },
      "source": [
        "for i in range(1, predicted_price_simpledense.shape[0]):\n",
        "  predicted_price_simpledense[i]=predicted_price_simpledense[i-1]*(1+pred1[i-1])\n",
        "for i in range(1, predicted_price_simplernn.shape[0]):\n",
        "  predicted_price_simplernn[i]=predicted_price_simplernn[i-1]*(1+pred2[i-1])\n",
        "for i in range(1, predicted_price_deeprnn.shape[0]):\n",
        "  predicted_price_deeprnn[i]=predicted_price_deeprnn[i-1]*(1+pred3[i-1])"
      ],
      "execution_count": 43,
      "outputs": []
    },
    {
      "cell_type": "code",
      "metadata": {
        "colab": {
          "base_uri": "https://localhost:8080/",
          "height": 296
        },
        "id": "NGchnZctbshj",
        "outputId": "67140bbb-911e-448e-849e-8424d0f4acc5"
      },
      "source": [
        "actual_price=aapl2.loc['2018-12-04':].values\n",
        "plt.plot(actual_price)\n",
        "plt.plot(predicted_price_simpledense,color='red')\n",
        "plt.plot(predicted_price_simplernn,color='green')\n",
        "plt.plot(predicted_price_deeprnn,color='purple')\n",
        "plt.xlabel('Time, days')\n",
        "plt.ylabel('Price, USD')\n",
        "plt.legend(['Actual price','Price predicted by Simple Dense','Price predicted by Simple RNN','Price predicted by Deep RNN'])"
      ],
      "execution_count": 44,
      "outputs": [
        {
          "output_type": "execute_result",
          "data": {
            "text/plain": [
              "<matplotlib.legend.Legend at 0x7fc815331d50>"
            ]
          },
          "metadata": {
            "tags": []
          },
          "execution_count": 44
        },
        {
          "output_type": "display_data",
          "data": {
            "image/png": "[encoded data removed]",
            "text/plain": [
              "<Figure size 432x288 with 1 Axes>"
            ]
          },
          "metadata": {
            "tags": [],
            "needs_background": "light"
          }
        }
      ]
    },
    {
      "cell_type": "markdown",
      "metadata": {
        "id": "6i320CNx5TCT"
      },
      "source": [
        "Backward engineering, we see that simple RNN surprisingly fails miserably at predicting the price, while deep RNN and simple dense network capture the general upward trend and, surprisingly, simple dense does a better job.\n",
        "Overall, just like in the case of classical ML algorithms neural networks are not able to predict complicated patterns in price movements and significantly underpredict the overall magnitude of price change. To be honest though, our best neural network model (simple Dense) performs slightly better than our best classical ML model (Random Forest) in both classification and regression."
      ]
    },
    {
      "cell_type": "code",
      "metadata": {
        "id": "SmwC24s75AT_"
      },
      "source": [
        ""
      ],
      "execution_count": null,
      "outputs": []
    }
  ]
}