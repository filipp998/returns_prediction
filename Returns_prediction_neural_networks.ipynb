{
  "nbformat": 4,
  "nbformat_minor": 0,
  "metadata": {
    "colab": {
      "name": "Returns_prediction neural networks.ipynb",
      "provenance": [],
      "collapsed_sections": []
    },
    "kernelspec": {
      "name": "python3",
      "display_name": "Python 3"
    },
    "language_info": {
      "name": "python"
    }
  },
  "cells": [
    {
      "cell_type": "code",
      "metadata": {
        "colab": {
          "base_uri": "https://localhost:8080/"
        },
        "id": "vop4j2Se-u8I",
        "outputId": "e8675e98-d174-47a4-f275-88bfba5535c5"
      },
      "source": [
        "try:\n",
        "    from google.colab import drive\n",
        "    IN_COLAB=True\n",
        "except:\n",
        "    IN_COLAB=False\n",
        "\n",
        "if IN_COLAB:\n",
        "    print(\"We're running Colab\")\n",
        "  \n",
        "if IN_COLAB:\n",
        "    # Mount the Google Drive at mount\n",
        "    mount='/content/gdrive'\n",
        "    print(\"Colab: mounting Google drive on \", mount)\n",
        "\n",
        "    drive.mount(mount)\n",
        "\n",
        "    # Switch to the directory on the Google Drive that you want to use\n",
        "    import os\n",
        "    drive_root = mount + \"/My Drive/ML_for_fun/Stock prediction/Data\"\n",
        "    \n",
        "    # Create drive_root if it doesn't exist\n",
        "    create_drive_root = True\n",
        "    if create_drive_root:\n",
        "        print(\"\\nColab: making sure \", drive_root, \" exists.\")\n",
        "        os.makedirs(drive_root, exist_ok = True)\n",
        "    \n",
        "    # Change to the directory\n",
        "    print(\"\\nColab: Changing directory to \", drive_root)\n",
        "    %cd $drive_root\n",
        "else:\n",
        "    raise RuntimeError(\"This notebook should be run from Colab, not on the local machine\")"
      ],
      "execution_count": 3,
      "outputs": [
        {
          "output_type": "stream",
          "text": [
            "We're running Colab\n",
            "Colab: mounting Google drive on  /content/gdrive\n",
            "Mounted at /content/gdrive\n",
            "\n",
            "Colab: making sure  /content/gdrive/My Drive/ML_for_fun/Stock prediction/Data  exists.\n",
            "\n",
            "Colab: Changing directory to  /content/gdrive/My Drive/ML_for_fun/Stock prediction/Data\n",
            "/content/gdrive/My Drive/ML_for_fun/Stock prediction/Data\n"
          ],
          "name": "stdout"
        }
      ]
    },
    {
      "cell_type": "markdown",
      "metadata": {
        "id": "48ywr9OH8YFI"
      },
      "source": [
        "# Data preparation"
      ]
    },
    {
      "cell_type": "code",
      "metadata": {
        "id": "gcZA_86p-6eF"
      },
      "source": [
        "import numpy as np\n",
        "import pandas as pd\n",
        "import tensorflow as tf\n",
        "from tensorflow import keras\n",
        "import matplotlib.pyplot as plt\n"
      ],
      "execution_count": 70,
      "outputs": []
    },
    {
      "cell_type": "code",
      "metadata": {
        "id": "RHH7iep-_OQb"
      },
      "source": [
        "from keras.layers import Dense,Dropout,Input,Flatten,Concatenate,Conv1D,LSTM"
      ],
      "execution_count": 25,
      "outputs": []
    },
    {
      "cell_type": "code",
      "metadata": {
        "id": "agIr3TdR_nFN"
      },
      "source": [
        "aapl=pd.read_csv('./AAPL.csv')\n",
        "def prepare_dat(df):\n",
        "  df2=df.copy()\n",
        "  df2.set_index('Date',inplace=True)\n",
        "  df2.drop(['Open','High','Low','Close','Volume'],axis=1,inplace=True)\n",
        "  return df2\n",
        "aapl2=prepare_dat(aapl)\n",
        "def create_lags(df,column,num):\n",
        "  df2=df.copy()\n",
        "  for i in range(1,num):\n",
        "    df2[column+str(-i)]=df2[column].shift(i)\n",
        "  df2.dropna(inplace=True)\n",
        "  return df2 \n",
        "X=create_lags(aapl2,'Adj Close',6)"
      ],
      "execution_count": 22,
      "outputs": []
    },
    {
      "cell_type": "code",
      "metadata": {
        "id": "1pe4GG3EBt9V"
      },
      "source": [
        "X.dropna(inplace=True)\n",
        "y=X['Adj Close'].pct_change()\n",
        "y.dropna(inplace=True)\n",
        "X=X.drop('Adj Close',axis=1).pct_change()\n",
        "y_cl=(y.values>0).astype(int)\n",
        "y_reg=y.values"
      ],
      "execution_count": 23,
      "outputs": []
    },
    {
      "cell_type": "markdown",
      "metadata": {
        "id": "ysya2R3N8Uzw"
      },
      "source": [
        "# Classification"
      ]
    },
    {
      "cell_type": "code",
      "metadata": {
        "id": "nstY1t-VDJKO"
      },
      "source": [
        "Xtrain,Xval,Xtest,ytrain,yval,ytest=X.iloc[:3000,:],X.iloc[3000:3500,:],X.iloc[3500:,:],y_cl[:3000],y_cl[3000:3500],y_cl[3500:]"
      ],
      "execution_count": 7,
      "outputs": []
    },
    {
      "cell_type": "code",
      "metadata": {
        "id": "EXzKgwKKVFDp"
      },
      "source": [
        "Xtrain.dropna(inplace=True)\n",
        "Xval.dropna(inplace=True)\n",
        "Xtest.dropna(inplace=True)"
      ],
      "execution_count": null,
      "outputs": []
    },
    {
      "cell_type": "code",
      "metadata": {
        "id": "mxqfjt0ISQzM"
      },
      "source": [
        "Xtrain,Xval,Xtest=Xtrain.values,Xval.values,Xtest.values"
      ],
      "execution_count": 9,
      "outputs": []
    },
    {
      "cell_type": "code",
      "metadata": {
        "id": "pUQoybeWVnsd"
      },
      "source": [
        "ytrain=ytrain[1:]"
      ],
      "execution_count": 10,
      "outputs": []
    },
    {
      "cell_type": "code",
      "metadata": {
        "id": "RrnuDJ5wW8xf"
      },
      "source": [
        "Xtest=Xtest[:-1]"
      ],
      "execution_count": 11,
      "outputs": []
    },
    {
      "cell_type": "code",
      "metadata": {
        "id": "xfAKj4gfRmLP"
      },
      "source": [
        "Xtrain,Xval,Xtest=Xtrain.reshape(Xtrain.shape[0],Xtrain.shape[1],1),Xval.reshape(Xval.shape[0],Xval.shape[1],1),Xtest.reshape(Xtest.shape[0],Xtest.shape[1],1)"
      ],
      "execution_count": 12,
      "outputs": []
    },
    {
      "cell_type": "code",
      "metadata": {
        "id": "viuGH-xM_4NK"
      },
      "source": [
        "simple_dense=keras.models.Sequential([Flatten(input_shape=[5,1]),\n",
        "                                      Dense(20,activation='relu'),\n",
        "                                      Dense(1, activation='sigmoid')\n",
        "])"
      ],
      "execution_count": 13,
      "outputs": []
    },
    {
      "cell_type": "code",
      "metadata": {
        "id": "jDwc4GtwCJe7"
      },
      "source": [
        "simple_dense.compile(loss='binary_crossentropy',optimizer='adam',metrics=['accuracy'])"
      ],
      "execution_count": 14,
      "outputs": []
    },
    {
      "cell_type": "code",
      "metadata": {
        "colab": {
          "base_uri": "https://localhost:8080/"
        },
        "id": "a4KQ8VTEC7kX",
        "outputId": "c7342c19-4735-4955-cdf1-1c435c1835b9"
      },
      "source": [
        "history=simple_dense.fit(Xtrain,ytrain,epochs=20,validation_data=(Xval,yval))"
      ],
      "execution_count": 15,
      "outputs": [
        {
          "output_type": "stream",
          "text": [
            "Epoch 1/20\n",
            "94/94 [==============================] - 1s 3ms/step - loss: 0.6927 - accuracy: 0.5135 - val_loss: 0.6915 - val_accuracy: 0.5340\n",
            "Epoch 2/20\n",
            "94/94 [==============================] - 0s 2ms/step - loss: 0.6920 - accuracy: 0.5252 - val_loss: 0.6908 - val_accuracy: 0.5380\n",
            "Epoch 3/20\n",
            "94/94 [==============================] - 0s 2ms/step - loss: 0.6918 - accuracy: 0.5252 - val_loss: 0.6904 - val_accuracy: 0.5380\n",
            "Epoch 4/20\n",
            "94/94 [==============================] - 0s 2ms/step - loss: 0.6916 - accuracy: 0.5248 - val_loss: 0.6904 - val_accuracy: 0.5380\n",
            "Epoch 5/20\n",
            "94/94 [==============================] - 0s 2ms/step - loss: 0.6916 - accuracy: 0.5268 - val_loss: 0.6902 - val_accuracy: 0.5380\n",
            "Epoch 6/20\n",
            "94/94 [==============================] - 0s 2ms/step - loss: 0.6916 - accuracy: 0.5245 - val_loss: 0.6903 - val_accuracy: 0.5380\n",
            "Epoch 7/20\n",
            "94/94 [==============================] - 0s 2ms/step - loss: 0.6915 - accuracy: 0.5255 - val_loss: 0.6901 - val_accuracy: 0.5380\n",
            "Epoch 8/20\n",
            "94/94 [==============================] - 0s 2ms/step - loss: 0.6915 - accuracy: 0.5252 - val_loss: 0.6901 - val_accuracy: 0.5360\n",
            "Epoch 9/20\n",
            "94/94 [==============================] - 0s 2ms/step - loss: 0.6916 - accuracy: 0.5248 - val_loss: 0.6900 - val_accuracy: 0.5380\n",
            "Epoch 10/20\n",
            "94/94 [==============================] - 0s 2ms/step - loss: 0.6915 - accuracy: 0.5255 - val_loss: 0.6900 - val_accuracy: 0.5380\n",
            "Epoch 11/20\n",
            "94/94 [==============================] - 0s 2ms/step - loss: 0.6916 - accuracy: 0.5262 - val_loss: 0.6900 - val_accuracy: 0.5380\n",
            "Epoch 12/20\n",
            "94/94 [==============================] - 0s 2ms/step - loss: 0.6914 - accuracy: 0.5258 - val_loss: 0.6900 - val_accuracy: 0.5380\n",
            "Epoch 13/20\n",
            "94/94 [==============================] - 0s 2ms/step - loss: 0.6914 - accuracy: 0.5262 - val_loss: 0.6900 - val_accuracy: 0.5380\n",
            "Epoch 14/20\n",
            "94/94 [==============================] - 0s 2ms/step - loss: 0.6914 - accuracy: 0.5262 - val_loss: 0.6899 - val_accuracy: 0.5380\n",
            "Epoch 15/20\n",
            "94/94 [==============================] - 0s 2ms/step - loss: 0.6914 - accuracy: 0.5282 - val_loss: 0.6900 - val_accuracy: 0.5360\n",
            "Epoch 16/20\n",
            "94/94 [==============================] - 0s 2ms/step - loss: 0.6913 - accuracy: 0.5272 - val_loss: 0.6898 - val_accuracy: 0.5380\n",
            "Epoch 17/20\n",
            "94/94 [==============================] - 0s 2ms/step - loss: 0.6913 - accuracy: 0.5258 - val_loss: 0.6898 - val_accuracy: 0.5380\n",
            "Epoch 18/20\n",
            "94/94 [==============================] - 0s 2ms/step - loss: 0.6912 - accuracy: 0.5245 - val_loss: 0.6900 - val_accuracy: 0.5340\n",
            "Epoch 19/20\n",
            "94/94 [==============================] - 0s 2ms/step - loss: 0.6914 - accuracy: 0.5258 - val_loss: 0.6899 - val_accuracy: 0.5340\n",
            "Epoch 20/20\n",
            "94/94 [==============================] - 0s 2ms/step - loss: 0.6913 - accuracy: 0.5235 - val_loss: 0.6897 - val_accuracy: 0.5380\n"
          ],
          "name": "stdout"
        }
      ]
    },
    {
      "cell_type": "code",
      "metadata": {
        "colab": {
          "base_uri": "https://localhost:8080/"
        },
        "id": "ViPSHClUUNHw",
        "outputId": "8796c6c3-1d73-4fbe-bd5f-e1ff22299182"
      },
      "source": [
        "simple_dense.evaluate(Xtest,ytest)"
      ],
      "execution_count": 16,
      "outputs": [
        {
          "output_type": "stream",
          "text": [
            "20/20 [==============================] - 0s 1ms/step - loss: 0.6888 - accuracy: 0.5459\n"
          ],
          "name": "stdout"
        },
        {
          "output_type": "execute_result",
          "data": {
            "text/plain": [
              "[0.6888037323951721, 0.5458860993385315]"
            ]
          },
          "metadata": {
            "tags": []
          },
          "execution_count": 16
        }
      ]
    },
    {
      "cell_type": "code",
      "metadata": {
        "id": "GViE1HZI9ZGM"
      },
      "source": [
        "simple_dense.predict_classes(Xtest)"
      ],
      "execution_count": null,
      "outputs": []
    },
    {
      "cell_type": "markdown",
      "metadata": {
        "id": "CDA538W9JYbS"
      },
      "source": [
        "Our network predicts different classes which is not a bad sign"
      ]
    },
    {
      "cell_type": "markdown",
      "metadata": {
        "id": "lJxozxd_JiM6"
      },
      "source": [
        "We next try slightly more complicated dense network which is nonsequential: all or part of the inputs are connected directly to the output layer. This should potentially allow the network to learn both deep paterns via deep path and simple rules via the short path."
      ]
    },
    {
      "cell_type": "code",
      "metadata": {
        "id": "qkN_PSvbD1ks"
      },
      "source": [
        "inp=Input(shape=Xtrain.shape[1:])\n",
        "h1=Dense(20, activation='relu')(inp)\n",
        "h2=Dense(20,activation='relu')(h1)\n",
        "concat=Concatenate()([inp,h2])\n",
        "out=Dense(1,activation='sigmoid')(concat)\n",
        "nonseq_model=keras.Model(inputs=[inp],outputs=[out])"
      ],
      "execution_count": 18,
      "outputs": []
    },
    {
      "cell_type": "code",
      "metadata": {
        "id": "bZ6RKVASFQ0p"
      },
      "source": [
        "nonseq_model.compile(loss='binary_crossentropy',optimizer='adam',metrics=['accuracy'])\n",
        "history_nonseq=nonseq_model.fit(Xtrain,ytrain,epochs=20,validation_data=(Xval,yval))"
      ],
      "execution_count": null,
      "outputs": []
    },
    {
      "cell_type": "markdown",
      "metadata": {
        "id": "vzFY0e6iKsdi"
      },
      "source": [
        "We see the same, nonchanging validation accuracy."
      ]
    },
    {
      "cell_type": "code",
      "metadata": {
        "colab": {
          "base_uri": "https://localhost:8080/"
        },
        "id": "Q-8eWcIYFwsC",
        "outputId": "e588e8d0-dcf3-49f8-dec4-58004fb4dc38"
      },
      "source": [
        "nonseq_model.evaluate(Xtest,ytest)"
      ],
      "execution_count": 20,
      "outputs": [
        {
          "output_type": "stream",
          "text": [
            "20/20 [==============================] - 0s 1ms/step - loss: 0.6899 - accuracy: 0.5443\n"
          ],
          "name": "stdout"
        },
        {
          "output_type": "execute_result",
          "data": {
            "text/plain": [
              "[0.6898924708366394, 0.5443037748336792]"
            ]
          },
          "metadata": {
            "tags": []
          },
          "execution_count": 20
        }
      ]
    },
    {
      "cell_type": "markdown",
      "metadata": {
        "id": "LXn-c6pvK1Pt"
      },
      "source": [
        "And the performance on the test set is the same, even slightly worse than before"
      ]
    },
    {
      "cell_type": "markdown",
      "metadata": {
        "id": "accl-SuvLAk5"
      },
      "source": [
        "Then let us look on the performance of the recurrent neural network (RNN) which is designed specifically for time series modelling"
      ]
    },
    {
      "cell_type": "code",
      "metadata": {
        "colab": {
          "base_uri": "https://localhost:8080/"
        },
        "id": "Oq0hZJn9Pe6W",
        "outputId": "b2de5c18-84aa-4523-935c-4429b9b5f20c"
      },
      "source": [
        "Xtrain.shape"
      ],
      "execution_count": 37,
      "outputs": [
        {
          "output_type": "execute_result",
          "data": {
            "text/plain": [
              "(2999, 5, 1)"
            ]
          },
          "metadata": {
            "tags": []
          },
          "execution_count": 37
        }
      ]
    },
    {
      "cell_type": "code",
      "metadata": {
        "id": "LRm4VQenMPO_"
      },
      "source": [
        "lstm_base=keras.models.Sequential([\n",
        "                                      LSTM(20,input_shape=[5,1],activation='relu'),\n",
        "                                      Dense(1, activation='sigmoid')\n",
        "])"
      ],
      "execution_count": 48,
      "outputs": []
    },
    {
      "cell_type": "code",
      "metadata": {
        "id": "a9TLIMUfMaMf"
      },
      "source": [
        "lstm_base.compile(loss='binary_crossentropy',optimizer='adam',metrics=['accuracy'])\n",
        "history_lstm1=lstm_base.fit(Xtrain,ytrain,epochs=20,validation_data=(Xval,yval))"
      ],
      "execution_count": null,
      "outputs": []
    },
    {
      "cell_type": "code",
      "metadata": {
        "colab": {
          "base_uri": "https://localhost:8080/"
        },
        "id": "PKKMDggVMvIe",
        "outputId": "64a2dab4-41a3-4178-c1c0-4796634df099"
      },
      "source": [
        "lstm_base.evaluate(Xtest,ytest)"
      ],
      "execution_count": 44,
      "outputs": [
        {
          "output_type": "stream",
          "text": [
            "20/20 [==============================] - 0s 2ms/step - loss: 0.6900 - accuracy: 0.5443\n"
          ],
          "name": "stdout"
        },
        {
          "output_type": "execute_result",
          "data": {
            "text/plain": [
              "[0.6900442838668823, 0.5443037748336792]"
            ]
          },
          "metadata": {
            "tags": []
          },
          "execution_count": 44
        }
      ]
    },
    {
      "cell_type": "markdown",
      "metadata": {
        "id": "GS2coVkURDqo"
      },
      "source": [
        "Well, result seems the same as in the case of the simple Dense network, so LSTM doesn't add any value\n",
        "Let's see how more complicated network performs. We throw more LSTM layers and a Dropout layer to prevent overfitting."
      ]
    },
    {
      "cell_type": "code",
      "metadata": {
        "id": "ofzr78tHRhO7"
      },
      "source": [
        "lstm2=keras.models.Sequential([\n",
        "                                      LSTM(20,input_shape=[5,1],activation='relu',return_sequences=True),\n",
        "                                      LSTM(20,return_sequences=True),\n",
        "                                      Dropout(0.5),\n",
        "                                      LSTM(20),\n",
        "                                      Dense(1, activation='sigmoid')\n",
        "])"
      ],
      "execution_count": 50,
      "outputs": []
    },
    {
      "cell_type": "code",
      "metadata": {
        "id": "DaKT8cWcRwXa"
      },
      "source": [
        "lstm2.compile(loss='binary_crossentropy',optimizer='adam',metrics=['accuracy'])\n",
        "history_lstm2=lstm2.fit(Xtrain,ytrain,epochs=20,validation_data=(Xval,yval))"
      ],
      "execution_count": null,
      "outputs": []
    },
    {
      "cell_type": "code",
      "metadata": {
        "colab": {
          "base_uri": "https://localhost:8080/"
        },
        "id": "WgG8DoYjTBuY",
        "outputId": "8c0682ed-b2d2-461c-a217-3ce8c3b45157"
      },
      "source": [
        "lstm2.evaluate(Xtest,ytest)"
      ],
      "execution_count": 53,
      "outputs": [
        {
          "output_type": "stream",
          "text": [
            "20/20 [==============================] - 0s 3ms/step - loss: 0.6901 - accuracy: 0.5443\n"
          ],
          "name": "stdout"
        },
        {
          "output_type": "execute_result",
          "data": {
            "text/plain": [
              "[0.6900752782821655, 0.5443037748336792]"
            ]
          },
          "metadata": {
            "tags": []
          },
          "execution_count": 53
        }
      ]
    },
    {
      "cell_type": "markdown",
      "metadata": {
        "id": "BdMUor-TSnqP"
      },
      "source": [
        "Training now takes much more time, but results are the same. So no matter how we complicate the model, it can't learn more based on given features."
      ]
    },
    {
      "cell_type": "markdown",
      "metadata": {
        "id": "0i5NcV438NXb"
      },
      "source": [
        "# Regression"
      ]
    },
    {
      "cell_type": "markdown",
      "metadata": {
        "id": "VG2Fh6gyTccY"
      },
      "source": [
        "Let us try regression with neural networks now"
      ]
    },
    {
      "cell_type": "code",
      "metadata": {
        "id": "262p_D8UUDYu"
      },
      "source": [
        "ytrain,yval,ytest=y_reg[:3000],y_reg[3000:3500],y_reg[3500:]\n",
        "ytrain=ytrain[1:]"
      ],
      "execution_count": 56,
      "outputs": []
    },
    {
      "cell_type": "code",
      "metadata": {
        "id": "bbzMvdb8TbIT"
      },
      "source": [
        "simple_dense=keras.models.Sequential([Flatten(input_shape=[5,1]),\n",
        "                                      Dense(20,activation='relu'),\n",
        "                                      Dense(1)\n",
        "])\n",
        "simple_dense.compile(loss='mean_absolute_error',optimizer='adam')\n",
        "lstm_base=keras.models.Sequential([\n",
        "                                      LSTM(20,input_shape=[5,1],activation='relu'),\n",
        "                                      Dense(1)\n",
        "])\n",
        "lstm_base.compile(loss='mean_absolute_error',optimizer='adam')\n",
        "lstm2=keras.models.Sequential([\n",
        "                                      LSTM(20,input_shape=[5,1],activation='relu',return_sequences=True),\n",
        "                                      LSTM(20,return_sequences=True),\n",
        "                                      Dropout(0.5),\n",
        "                                      LSTM(20),\n",
        "                                      Dense(1)\n",
        "])\n",
        "lstm2.compile(loss='mean_absolute_error',optimizer='adam')"
      ],
      "execution_count": 64,
      "outputs": []
    },
    {
      "cell_type": "code",
      "metadata": {
        "colab": {
          "base_uri": "https://localhost:8080/"
        },
        "id": "-WGNMD1tSCSC",
        "outputId": "dcb87f5d-e64b-470c-ed6e-8e85d6b65776"
      },
      "source": [
        "history=simple_dense.fit(Xtrain,ytrain,epochs=20,validation_data=(Xval,yval))"
      ],
      "execution_count": 65,
      "outputs": [
        {
          "output_type": "stream",
          "text": [
            "Epoch 1/20\n",
            "94/94 [==============================] - 1s 3ms/step - loss: 0.0156 - val_loss: 0.0101\n",
            "Epoch 2/20\n",
            "94/94 [==============================] - 0s 2ms/step - loss: 0.0153 - val_loss: 0.0100\n",
            "Epoch 3/20\n",
            "94/94 [==============================] - 0s 2ms/step - loss: 0.0153 - val_loss: 0.0103\n",
            "Epoch 4/20\n",
            "94/94 [==============================] - 0s 2ms/step - loss: 0.0153 - val_loss: 0.0099\n",
            "Epoch 5/20\n",
            "94/94 [==============================] - 0s 2ms/step - loss: 0.0152 - val_loss: 0.0099\n",
            "Epoch 6/20\n",
            "94/94 [==============================] - 0s 2ms/step - loss: 0.0152 - val_loss: 0.0100\n",
            "Epoch 7/20\n",
            "94/94 [==============================] - 0s 2ms/step - loss: 0.0152 - val_loss: 0.0100\n",
            "Epoch 8/20\n",
            "94/94 [==============================] - 0s 2ms/step - loss: 0.0152 - val_loss: 0.0099\n",
            "Epoch 9/20\n",
            "94/94 [==============================] - 0s 2ms/step - loss: 0.0151 - val_loss: 0.0099\n",
            "Epoch 10/20\n",
            "94/94 [==============================] - 0s 2ms/step - loss: 0.0151 - val_loss: 0.0100\n",
            "Epoch 11/20\n",
            "94/94 [==============================] - 0s 2ms/step - loss: 0.0151 - val_loss: 0.0099\n",
            "Epoch 12/20\n",
            "94/94 [==============================] - 0s 2ms/step - loss: 0.0151 - val_loss: 0.0099\n",
            "Epoch 13/20\n",
            "94/94 [==============================] - 0s 2ms/step - loss: 0.0151 - val_loss: 0.0100\n",
            "Epoch 14/20\n",
            "94/94 [==============================] - 0s 2ms/step - loss: 0.0151 - val_loss: 0.0099\n",
            "Epoch 15/20\n",
            "94/94 [==============================] - 0s 2ms/step - loss: 0.0151 - val_loss: 0.0101\n",
            "Epoch 16/20\n",
            "94/94 [==============================] - 0s 2ms/step - loss: 0.0152 - val_loss: 0.0099\n",
            "Epoch 17/20\n",
            "94/94 [==============================] - 0s 2ms/step - loss: 0.0151 - val_loss: 0.0100\n",
            "Epoch 18/20\n",
            "94/94 [==============================] - 0s 2ms/step - loss: 0.0151 - val_loss: 0.0099\n",
            "Epoch 19/20\n",
            "94/94 [==============================] - 0s 2ms/step - loss: 0.0150 - val_loss: 0.0100\n",
            "Epoch 20/20\n",
            "94/94 [==============================] - 0s 2ms/step - loss: 0.0151 - val_loss: 0.0099\n"
          ],
          "name": "stdout"
        }
      ]
    },
    {
      "cell_type": "code",
      "metadata": {
        "colab": {
          "base_uri": "https://localhost:8080/"
        },
        "id": "sBngE4VWV2oD",
        "outputId": "2ff112ae-1f98-478f-ede9-4f93db2f78d9"
      },
      "source": [
        "history2=lstm_base.fit(Xtrain,ytrain,epochs=20,validation_data=(Xval,yval))"
      ],
      "execution_count": 66,
      "outputs": [
        {
          "output_type": "stream",
          "text": [
            "Epoch 1/20\n",
            "94/94 [==============================] - 2s 6ms/step - loss: 0.0152 - val_loss: 0.0099\n",
            "Epoch 2/20\n",
            "94/94 [==============================] - 0s 4ms/step - loss: 0.0152 - val_loss: 0.0099\n",
            "Epoch 3/20\n",
            "94/94 [==============================] - 0s 4ms/step - loss: 0.0152 - val_loss: 0.0100\n",
            "Epoch 4/20\n",
            "94/94 [==============================] - 0s 4ms/step - loss: 0.0152 - val_loss: 0.0101\n",
            "Epoch 5/20\n",
            "94/94 [==============================] - 0s 4ms/step - loss: 0.0152 - val_loss: 0.0100\n",
            "Epoch 6/20\n",
            "94/94 [==============================] - 0s 5ms/step - loss: 0.0152 - val_loss: 0.0099\n",
            "Epoch 7/20\n",
            "94/94 [==============================] - 0s 4ms/step - loss: 0.0152 - val_loss: 0.0099\n",
            "Epoch 8/20\n",
            "94/94 [==============================] - 0s 4ms/step - loss: 0.0152 - val_loss: 0.0099\n",
            "Epoch 9/20\n",
            "94/94 [==============================] - 0s 3ms/step - loss: 0.0152 - val_loss: 0.0099\n",
            "Epoch 10/20\n",
            "94/94 [==============================] - 0s 4ms/step - loss: 0.0152 - val_loss: 0.0099\n",
            "Epoch 11/20\n",
            "94/94 [==============================] - 0s 4ms/step - loss: 0.0152 - val_loss: 0.0099\n",
            "Epoch 12/20\n",
            "94/94 [==============================] - 0s 4ms/step - loss: 0.0152 - val_loss: 0.0099\n",
            "Epoch 13/20\n",
            "94/94 [==============================] - 0s 4ms/step - loss: 0.0152 - val_loss: 0.0099\n",
            "Epoch 14/20\n",
            "94/94 [==============================] - 0s 4ms/step - loss: 0.0152 - val_loss: 0.0099\n",
            "Epoch 15/20\n",
            "94/94 [==============================] - 0s 4ms/step - loss: 0.0152 - val_loss: 0.0099\n",
            "Epoch 16/20\n",
            "94/94 [==============================] - 0s 4ms/step - loss: 0.0152 - val_loss: 0.0099\n",
            "Epoch 17/20\n",
            "94/94 [==============================] - 0s 4ms/step - loss: 0.0152 - val_loss: 0.0099\n",
            "Epoch 18/20\n",
            "94/94 [==============================] - 0s 4ms/step - loss: 0.0152 - val_loss: 0.0099\n",
            "Epoch 19/20\n",
            "94/94 [==============================] - 0s 4ms/step - loss: 0.0152 - val_loss: 0.0101\n",
            "Epoch 20/20\n",
            "94/94 [==============================] - 0s 4ms/step - loss: 0.0152 - val_loss: 0.0099\n"
          ],
          "name": "stdout"
        }
      ]
    },
    {
      "cell_type": "code",
      "metadata": {
        "colab": {
          "base_uri": "https://localhost:8080/"
        },
        "id": "Yv0e7ODkWTcu",
        "outputId": "761ecd71-5e26-4ae2-86b8-bba5f342e356"
      },
      "source": [
        "history3=lstm2.fit(Xtrain,ytrain,epochs=20,validation_data=(Xval,yval))"
      ],
      "execution_count": 67,
      "outputs": [
        {
          "output_type": "stream",
          "text": [
            "Epoch 1/20\n",
            "94/94 [==============================] - 6s 18ms/step - loss: 0.0153 - val_loss: 0.0100\n",
            "Epoch 2/20\n",
            "94/94 [==============================] - 1s 9ms/step - loss: 0.0152 - val_loss: 0.0100\n",
            "Epoch 3/20\n",
            "94/94 [==============================] - 1s 9ms/step - loss: 0.0153 - val_loss: 0.0099\n",
            "Epoch 4/20\n",
            "94/94 [==============================] - 1s 9ms/step - loss: 0.0152 - val_loss: 0.0100\n",
            "Epoch 5/20\n",
            "94/94 [==============================] - 1s 9ms/step - loss: 0.0153 - val_loss: 0.0099\n",
            "Epoch 6/20\n",
            "94/94 [==============================] - 1s 10ms/step - loss: 0.0153 - val_loss: 0.0102\n",
            "Epoch 7/20\n",
            "94/94 [==============================] - 1s 9ms/step - loss: 0.0152 - val_loss: 0.0099\n",
            "Epoch 8/20\n",
            "94/94 [==============================] - 1s 9ms/step - loss: 0.0152 - val_loss: 0.0099\n",
            "Epoch 9/20\n",
            "94/94 [==============================] - 1s 9ms/step - loss: 0.0152 - val_loss: 0.0100\n",
            "Epoch 10/20\n",
            "94/94 [==============================] - 1s 10ms/step - loss: 0.0152 - val_loss: 0.0100\n",
            "Epoch 11/20\n",
            "94/94 [==============================] - 1s 10ms/step - loss: 0.0153 - val_loss: 0.0101\n",
            "Epoch 12/20\n",
            "94/94 [==============================] - 1s 9ms/step - loss: 0.0152 - val_loss: 0.0100\n",
            "Epoch 13/20\n",
            "94/94 [==============================] - 1s 9ms/step - loss: 0.0152 - val_loss: 0.0099\n",
            "Epoch 14/20\n",
            "94/94 [==============================] - 1s 9ms/step - loss: 0.0152 - val_loss: 0.0099\n",
            "Epoch 15/20\n",
            "94/94 [==============================] - 1s 10ms/step - loss: 0.0153 - val_loss: 0.0099\n",
            "Epoch 16/20\n",
            "94/94 [==============================] - 1s 10ms/step - loss: 0.0152 - val_loss: 0.0099\n",
            "Epoch 17/20\n",
            "94/94 [==============================] - 1s 9ms/step - loss: 0.0152 - val_loss: 0.0099\n",
            "Epoch 18/20\n",
            "94/94 [==============================] - 1s 9ms/step - loss: 0.0152 - val_loss: 0.0100\n",
            "Epoch 19/20\n",
            "94/94 [==============================] - 1s 9ms/step - loss: 0.0152 - val_loss: 0.0099\n",
            "Epoch 20/20\n",
            "94/94 [==============================] - 1s 9ms/step - loss: 0.0152 - val_loss: 0.0099\n"
          ],
          "name": "stdout"
        }
      ]
    },
    {
      "cell_type": "markdown",
      "metadata": {
        "id": "oBpHzcsXWrJi"
      },
      "source": [
        "Well, on validation sets all models perform relatively the same"
      ]
    },
    {
      "cell_type": "code",
      "metadata": {
        "colab": {
          "base_uri": "https://localhost:8080/"
        },
        "id": "0QgXHGmAWc9V",
        "outputId": "26ee2f56-93e3-45ae-f468-2887bc57e9ca"
      },
      "source": [
        "print('Base dense test performance: ', simple_dense.evaluate(Xtest,ytest))\n",
        "print('Base RNN test performance: ', lstm_base.evaluate(Xtest,ytest))\n",
        "print('Deep RNN test performance: ', lstm2.evaluate(Xtest,ytest))"
      ],
      "execution_count": 68,
      "outputs": [
        {
          "output_type": "stream",
          "text": [
            "20/20 [==============================] - 0s 1ms/step - loss: 0.0159\n",
            "Base dense test performance:  0.015931028872728348\n",
            "20/20 [==============================] - 0s 2ms/step - loss: 0.0157\n",
            "Base RNN test performance:  0.015740668401122093\n",
            "20/20 [==============================] - 0s 2ms/step - loss: 0.0158\n",
            "Deep RNN test performance:  0.015757868066430092\n"
          ],
          "name": "stdout"
        }
      ]
    },
    {
      "cell_type": "markdown",
      "metadata": {
        "id": "ilcfAfsqXrQL"
      },
      "source": [
        "Nevertheless, on the test set our simple RNN (not the deep one) performed the best "
      ]
    },
    {
      "cell_type": "code",
      "metadata": {
        "colab": {
          "base_uri": "https://localhost:8080/",
          "height": 282
        },
        "id": "wcVkYxEMXjXZ",
        "outputId": "4559773b-b1b0-42ea-c702-e503f9e74c20"
      },
      "source": [
        "pred1=simple_dense.predict(Xtest)\n",
        "pred2=lstm_base.predict(Xtest)\n",
        "pred3=lstm2.predict(Xtest)\n",
        "plt.plot(ytest)\n",
        "plt.plot(pred1,color='red')\n",
        "plt.plot(pred2,color='green')\n",
        "plt.plot(pred3,color='purple')\n",
        "plt.legend(['Actual','Simple Dense','Base LSTM','Deep LSTM'])"
      ],
      "execution_count": 71,
      "outputs": [
        {
          "output_type": "execute_result",
          "data": {
            "text/plain": [
              "<matplotlib.legend.Legend at 0x7f1c97ef7e10>"
            ]
          },
          "metadata": {
            "tags": []
          },
          "execution_count": 71
        },
        {
          "output_type": "display_data",
          "data": {
            "image/png": "[encoded data removed]",
            "text/plain": [
              "<Figure size 432x288 with 1 Axes>"
            ]
          },
          "metadata": {
            "tags": [],
            "needs_background": "light"
          }
        }
      ]
    },
    {
      "cell_type": "markdown",
      "metadata": {
        "id": "Ln8a-K454ADN"
      },
      "source": [
        "Based on this picture, simple dense network captures the magnitude of the variability in the returns better than both RNN's. It , however, almost always predicts the return to be negative which is not the case in reality."
      ]
    },
    {
      "cell_type": "code",
      "metadata": {
        "id": "O3YxnnuFa8rd"
      },
      "source": [
        "start_test=aapl2.loc['2018-12-04'].values\n",
        "predicted_price_simpledense=np.empty(633)\n",
        "predicted_price_simplernn=np.empty(633)\n",
        "predicted_price_deeprnn=np.empty(633)\n",
        "predicted_price_simpledense[0]=start_test\n",
        "predicted_price_simplernn[0]=start_test\n",
        "predicted_price_deeprnn[0]=start_test"
      ],
      "execution_count": 72,
      "outputs": []
    },
    {
      "cell_type": "code",
      "metadata": {
        "id": "CwXaBrCdbS1f"
      },
      "source": [
        "for i in range(1, predicted_price_simpledense.shape[0]):\n",
        "  predicted_price_simpledense[i]=predicted_price_simpledense[i-1]*(1+pred1[i-1])\n",
        "for i in range(1, predicted_price_simplernn.shape[0]):\n",
        "  predicted_price_simplernn[i]=predicted_price_simplernn[i-1]*(1+pred2[i-1])\n",
        "for i in range(1, predicted_price_deeprnn.shape[0]):\n",
        "  predicted_price_deeprnn[i]=predicted_price_deeprnn[i-1]*(1+pred3[i-1])"
      ],
      "execution_count": 73,
      "outputs": []
    },
    {
      "cell_type": "code",
      "metadata": {
        "colab": {
          "base_uri": "https://localhost:8080/",
          "height": 296
        },
        "id": "NGchnZctbshj",
        "outputId": "76ad8fb6-be13-4268-c097-0deaf5f836a7"
      },
      "source": [
        "actual_price=aapl2.loc['2018-12-04':].values\n",
        "plt.plot(actual_price)\n",
        "plt.plot(predicted_price_simpledense,color='red')\n",
        "plt.plot(predicted_price_simplernn,color='green')\n",
        "plt.plot(predicted_price_deeprnn,color='purple')\n",
        "plt.xlabel('Time, days')\n",
        "plt.ylabel('Price, USD')\n",
        "plt.legend(['Actual price','Price predicted by Simple Dense','Price predicted by Simple RNN','Price predicted by Deep RNN'])"
      ],
      "execution_count": 74,
      "outputs": [
        {
          "output_type": "execute_result",
          "data": {
            "text/plain": [
              "<matplotlib.legend.Legend at 0x7f1c97676b90>"
            ]
          },
          "metadata": {
            "tags": []
          },
          "execution_count": 74
        },
        {
          "output_type": "display_data",
          "data": {
            "image/png": "[encoded data removed]",
            "text/plain": [
              "<Figure size 432x288 with 1 Axes>"
            ]
          },
          "metadata": {
            "tags": [],
            "needs_background": "light"
          }
        }
      ]
    },
    {
      "cell_type": "markdown",
      "metadata": {
        "id": "6i320CNx5TCT"
      },
      "source": [
        "Backward engineering, we see that simple dense network surprisingly fails miserably at predicting the price, while RNN's capture the general upwards trend and, surprisingly, simple RNN does a slightly better job, although the difference is not very high.\n",
        "Overall, just like in the case of classical ML algorithms neural networks are not able to predict complicated patterns in price movements and significantly underpredict the overall magnitude of price change. To be honest though, our best neural network model (simple RNN) performs slightly better than our best classical ML model (Random Forest) in regression. RF though performs slightly better in classification."
      ]
    },
    {
      "cell_type": "code",
      "metadata": {
        "id": "SmwC24s75AT_"
      },
      "source": [
        ""
      ],
      "execution_count": null,
      "outputs": []
    }
  ]
}